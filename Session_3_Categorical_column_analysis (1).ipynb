{
 "cells": [
  {
   "cell_type": "code",
   "execution_count": 127,
   "id": "eb8acf13-46b6-4f5e-b0c7-68fc77a4b1d2",
   "metadata": {},
   "outputs": [],
   "source": [
    "import numpy as np\n",
    "import pandas as pd\n",
    "import matplotlib.pyplot as plt\n",
    "import seaborn as sns"
   ]
  },
  {
   "cell_type": "code",
   "execution_count": null,
   "id": "f4170a59-0e00-40a2-b608-801ee607271d",
   "metadata": {},
   "outputs": [],
   "source": []
  },
  {
   "cell_type": "code",
   "execution_count": null,
   "id": "7ffaad93-aaab-448c-828f-b18f5288e4f4",
   "metadata": {},
   "outputs": [],
   "source": []
  },
  {
   "cell_type": "code",
   "execution_count": null,
   "id": "e3bd2816-e3a4-4240-aafd-2ea877c18416",
   "metadata": {},
   "outputs": [],
   "source": []
  },
  {
   "cell_type": "code",
   "execution_count": 129,
   "id": "c78c868d-b730-4028-8398-e046105ac732",
   "metadata": {},
   "outputs": [
    {
     "data": {
      "text/html": [
       "<div>\n",
       "<style scoped>\n",
       "    .dataframe tbody tr th:only-of-type {\n",
       "        vertical-align: middle;\n",
       "    }\n",
       "\n",
       "    .dataframe tbody tr th {\n",
       "        vertical-align: top;\n",
       "    }\n",
       "\n",
       "    .dataframe thead th {\n",
       "        text-align: right;\n",
       "    }\n",
       "</style>\n",
       "<table border=\"1\" class=\"dataframe\">\n",
       "  <thead>\n",
       "    <tr style=\"text-align: right;\">\n",
       "      <th></th>\n",
       "      <th>case_id</th>\n",
       "      <th>continent</th>\n",
       "      <th>education_of_employee</th>\n",
       "      <th>has_job_experience</th>\n",
       "      <th>requires_job_training</th>\n",
       "      <th>no_of_employees</th>\n",
       "      <th>yr_of_estab</th>\n",
       "      <th>region_of_employment</th>\n",
       "      <th>prevailing_wage</th>\n",
       "      <th>unit_of_wage</th>\n",
       "      <th>full_time_position</th>\n",
       "      <th>case_status</th>\n",
       "    </tr>\n",
       "  </thead>\n",
       "  <tbody>\n",
       "    <tr>\n",
       "      <th>0</th>\n",
       "      <td>EZYV01</td>\n",
       "      <td>Asia</td>\n",
       "      <td>High School</td>\n",
       "      <td>N</td>\n",
       "      <td>N</td>\n",
       "      <td>14513</td>\n",
       "      <td>2007</td>\n",
       "      <td>West</td>\n",
       "      <td>592.2029</td>\n",
       "      <td>Hour</td>\n",
       "      <td>Y</td>\n",
       "      <td>Denied</td>\n",
       "    </tr>\n",
       "    <tr>\n",
       "      <th>1</th>\n",
       "      <td>EZYV02</td>\n",
       "      <td>Asia</td>\n",
       "      <td>Master's</td>\n",
       "      <td>Y</td>\n",
       "      <td>N</td>\n",
       "      <td>2412</td>\n",
       "      <td>2002</td>\n",
       "      <td>Northeast</td>\n",
       "      <td>83425.6500</td>\n",
       "      <td>Year</td>\n",
       "      <td>Y</td>\n",
       "      <td>Certified</td>\n",
       "    </tr>\n",
       "    <tr>\n",
       "      <th>2</th>\n",
       "      <td>EZYV03</td>\n",
       "      <td>Asia</td>\n",
       "      <td>Bachelor's</td>\n",
       "      <td>N</td>\n",
       "      <td>Y</td>\n",
       "      <td>44444</td>\n",
       "      <td>2008</td>\n",
       "      <td>West</td>\n",
       "      <td>122996.8600</td>\n",
       "      <td>Year</td>\n",
       "      <td>Y</td>\n",
       "      <td>Denied</td>\n",
       "    </tr>\n",
       "    <tr>\n",
       "      <th>3</th>\n",
       "      <td>EZYV04</td>\n",
       "      <td>Asia</td>\n",
       "      <td>Bachelor's</td>\n",
       "      <td>N</td>\n",
       "      <td>N</td>\n",
       "      <td>98</td>\n",
       "      <td>1897</td>\n",
       "      <td>West</td>\n",
       "      <td>83434.0300</td>\n",
       "      <td>Year</td>\n",
       "      <td>Y</td>\n",
       "      <td>Denied</td>\n",
       "    </tr>\n",
       "    <tr>\n",
       "      <th>4</th>\n",
       "      <td>EZYV05</td>\n",
       "      <td>Africa</td>\n",
       "      <td>Master's</td>\n",
       "      <td>Y</td>\n",
       "      <td>N</td>\n",
       "      <td>1082</td>\n",
       "      <td>2005</td>\n",
       "      <td>South</td>\n",
       "      <td>149907.3900</td>\n",
       "      <td>Year</td>\n",
       "      <td>Y</td>\n",
       "      <td>Certified</td>\n",
       "    </tr>\n",
       "    <tr>\n",
       "      <th>...</th>\n",
       "      <td>...</td>\n",
       "      <td>...</td>\n",
       "      <td>...</td>\n",
       "      <td>...</td>\n",
       "      <td>...</td>\n",
       "      <td>...</td>\n",
       "      <td>...</td>\n",
       "      <td>...</td>\n",
       "      <td>...</td>\n",
       "      <td>...</td>\n",
       "      <td>...</td>\n",
       "      <td>...</td>\n",
       "    </tr>\n",
       "    <tr>\n",
       "      <th>25475</th>\n",
       "      <td>EZYV25476</td>\n",
       "      <td>Asia</td>\n",
       "      <td>Bachelor's</td>\n",
       "      <td>Y</td>\n",
       "      <td>Y</td>\n",
       "      <td>2601</td>\n",
       "      <td>2008</td>\n",
       "      <td>South</td>\n",
       "      <td>77092.5700</td>\n",
       "      <td>Year</td>\n",
       "      <td>Y</td>\n",
       "      <td>Certified</td>\n",
       "    </tr>\n",
       "    <tr>\n",
       "      <th>25476</th>\n",
       "      <td>EZYV25477</td>\n",
       "      <td>Asia</td>\n",
       "      <td>High School</td>\n",
       "      <td>Y</td>\n",
       "      <td>N</td>\n",
       "      <td>3274</td>\n",
       "      <td>2006</td>\n",
       "      <td>Northeast</td>\n",
       "      <td>279174.7900</td>\n",
       "      <td>Year</td>\n",
       "      <td>Y</td>\n",
       "      <td>Certified</td>\n",
       "    </tr>\n",
       "    <tr>\n",
       "      <th>25477</th>\n",
       "      <td>EZYV25478</td>\n",
       "      <td>Asia</td>\n",
       "      <td>Master's</td>\n",
       "      <td>Y</td>\n",
       "      <td>N</td>\n",
       "      <td>1121</td>\n",
       "      <td>1910</td>\n",
       "      <td>South</td>\n",
       "      <td>146298.8500</td>\n",
       "      <td>Year</td>\n",
       "      <td>N</td>\n",
       "      <td>Certified</td>\n",
       "    </tr>\n",
       "    <tr>\n",
       "      <th>25478</th>\n",
       "      <td>EZYV25479</td>\n",
       "      <td>Asia</td>\n",
       "      <td>Master's</td>\n",
       "      <td>Y</td>\n",
       "      <td>Y</td>\n",
       "      <td>1918</td>\n",
       "      <td>1887</td>\n",
       "      <td>West</td>\n",
       "      <td>86154.7700</td>\n",
       "      <td>Year</td>\n",
       "      <td>Y</td>\n",
       "      <td>Certified</td>\n",
       "    </tr>\n",
       "    <tr>\n",
       "      <th>25479</th>\n",
       "      <td>EZYV25480</td>\n",
       "      <td>Asia</td>\n",
       "      <td>Bachelor's</td>\n",
       "      <td>Y</td>\n",
       "      <td>N</td>\n",
       "      <td>3195</td>\n",
       "      <td>1960</td>\n",
       "      <td>Midwest</td>\n",
       "      <td>70876.9100</td>\n",
       "      <td>Year</td>\n",
       "      <td>Y</td>\n",
       "      <td>Certified</td>\n",
       "    </tr>\n",
       "  </tbody>\n",
       "</table>\n",
       "<p>25480 rows × 12 columns</p>\n",
       "</div>"
      ],
      "text/plain": [
       "         case_id continent education_of_employee  ... unit_of_wage full_time_position  case_status\n",
       "0         EZYV01      Asia           High School  ...         Hour                  Y       Denied\n",
       "1         EZYV02      Asia              Master's  ...         Year                  Y    Certified\n",
       "2         EZYV03      Asia            Bachelor's  ...         Year                  Y       Denied\n",
       "3         EZYV04      Asia            Bachelor's  ...         Year                  Y       Denied\n",
       "4         EZYV05    Africa              Master's  ...         Year                  Y    Certified\n",
       "...          ...       ...                   ...  ...          ...                ...          ...\n",
       "25475  EZYV25476      Asia            Bachelor's  ...         Year                  Y    Certified\n",
       "25476  EZYV25477      Asia           High School  ...         Year                  Y    Certified\n",
       "25477  EZYV25478      Asia              Master's  ...         Year                  N    Certified\n",
       "25478  EZYV25479      Asia              Master's  ...         Year                  Y    Certified\n",
       "25479  EZYV25480      Asia            Bachelor's  ...         Year                  Y    Certified\n",
       "\n",
       "[25480 rows x 12 columns]"
      ]
     },
     "execution_count": 129,
     "metadata": {},
     "output_type": "execute_result"
    }
   ],
   "source": [
    "visa=pd.read_csv(r\"C:\\Users\\l\\OneDrive\\NareshIT\\data file\\Visadataset.csv\"   )\n",
    "visa"
   ]
  },
  {
   "cell_type": "code",
   "execution_count": 131,
   "id": "ddd2a7ff-178f-4e46-8253-ed611a589a7e",
   "metadata": {},
   "outputs": [
    {
     "data": {
      "text/plain": [
       "Index(['no_of_employees', 'yr_of_estab', 'prevailing_wage'], dtype='object')"
      ]
     },
     "execution_count": 131,
     "metadata": {},
     "output_type": "execute_result"
    }
   ],
   "source": [
    "num=visa.select_dtypes(exclude='object').columns\n",
    "num"
   ]
  },
  {
   "cell_type": "code",
   "execution_count": 133,
   "id": "137a12b9-9a7b-41a8-9280-dd9272bbe485",
   "metadata": {},
   "outputs": [
    {
     "data": {
      "text/plain": [
       "Index(['case_id', 'continent', 'education_of_employee', 'has_job_experience',\n",
       "       'requires_job_training', 'region_of_employment', 'unit_of_wage',\n",
       "       'full_time_position', 'case_status'],\n",
       "      dtype='object')"
      ]
     },
     "execution_count": 133,
     "metadata": {},
     "output_type": "execute_result"
    }
   ],
   "source": [
    "cat=visa.select_dtypes(include='object').columns\n",
    "cat"
   ]
  },
  {
   "cell_type": "code",
   "execution_count": 135,
   "id": "797e3ca0-c19f-4ffe-9332-778f30e4aeef",
   "metadata": {},
   "outputs": [
    {
     "data": {
      "text/plain": [
       "0          Asia\n",
       "1          Asia\n",
       "2          Asia\n",
       "3          Asia\n",
       "4        Africa\n",
       "          ...  \n",
       "25475      Asia\n",
       "25476      Asia\n",
       "25477      Asia\n",
       "25478      Asia\n",
       "25479      Asia\n",
       "Name: continent, Length: 25480, dtype: object"
      ]
     },
     "execution_count": 135,
     "metadata": {},
     "output_type": "execute_result"
    }
   ],
   "source": [
    "visa['continent']"
   ]
  },
  {
   "cell_type": "markdown",
   "id": "ac7527d2-a09b-463f-9d0b-d8dc94bb4235",
   "metadata": {},
   "source": [
    "**Unique**"
   ]
  },
  {
   "cell_type": "code",
   "execution_count": 138,
   "id": "8abb9aa9-1435-45a9-9e99-8eccf4d0329f",
   "metadata": {},
   "outputs": [
    {
     "data": {
      "text/plain": [
       "array(['Asia', 'Africa', 'North America', 'Europe', 'South America',\n",
       "       'Oceania'], dtype=object)"
      ]
     },
     "execution_count": 138,
     "metadata": {},
     "output_type": "execute_result"
    }
   ],
   "source": [
    "visa['continent'].unique()"
   ]
  },
  {
   "cell_type": "code",
   "execution_count": 140,
   "id": "a37a2898-279e-450f-b6bd-ffb3b954dc85",
   "metadata": {},
   "outputs": [
    {
     "data": {
      "text/plain": [
       "6"
      ]
     },
     "execution_count": 140,
     "metadata": {},
     "output_type": "execute_result"
    }
   ],
   "source": [
    "len(visa['continent'].unique())"
   ]
  },
  {
   "cell_type": "markdown",
   "id": "6848dfe8-d514-4088-b6d1-6daf2be54359",
   "metadata": {},
   "source": [
    "**NUnique**"
   ]
  },
  {
   "cell_type": "code",
   "execution_count": 143,
   "id": "dbbcd027-ea6e-4930-883c-45670f391292",
   "metadata": {},
   "outputs": [
    {
     "data": {
      "text/plain": [
       "6"
      ]
     },
     "execution_count": 143,
     "metadata": {},
     "output_type": "execute_result"
    }
   ],
   "source": [
    "visa['continent'].nunique()"
   ]
  },
  {
   "cell_type": "markdown",
   "id": "077100df-3769-4706-9061-b275a18d556c",
   "metadata": {},
   "source": [
    "**Frequency Tables**\n",
    "- continent column has some unique continent names are avialable\n",
    "- total data size 25480 observations\n",
    "- will create a table having continents and number of applications from each continent"
   ]
  },
  {
   "cell_type": "code",
   "execution_count": 146,
   "id": "5280d39b-7f76-4cce-955b-8e32224e60c4",
   "metadata": {},
   "outputs": [
    {
     "data": {
      "text/plain": [
       "0         True\n",
       "1         True\n",
       "2         True\n",
       "3         True\n",
       "4        False\n",
       "         ...  \n",
       "25475     True\n",
       "25476     True\n",
       "25477     True\n",
       "25478     True\n",
       "25479     True\n",
       "Name: continent, Length: 25480, dtype: bool"
      ]
     },
     "execution_count": 146,
     "metadata": {},
     "output_type": "execute_result"
    }
   ],
   "source": [
    "visa['continent']=='Asia'  # true condition"
   ]
  },
  {
   "cell_type": "code",
   "execution_count": 148,
   "id": "06dcfd1d-24f2-4055-a033-e94d7b990bb3",
   "metadata": {},
   "outputs": [
    {
     "data": {
      "text/html": [
       "<div>\n",
       "<style scoped>\n",
       "    .dataframe tbody tr th:only-of-type {\n",
       "        vertical-align: middle;\n",
       "    }\n",
       "\n",
       "    .dataframe tbody tr th {\n",
       "        vertical-align: top;\n",
       "    }\n",
       "\n",
       "    .dataframe thead th {\n",
       "        text-align: right;\n",
       "    }\n",
       "</style>\n",
       "<table border=\"1\" class=\"dataframe\">\n",
       "  <thead>\n",
       "    <tr style=\"text-align: right;\">\n",
       "      <th></th>\n",
       "      <th>case_id</th>\n",
       "      <th>continent</th>\n",
       "      <th>education_of_employee</th>\n",
       "      <th>has_job_experience</th>\n",
       "      <th>requires_job_training</th>\n",
       "      <th>no_of_employees</th>\n",
       "      <th>yr_of_estab</th>\n",
       "      <th>region_of_employment</th>\n",
       "      <th>prevailing_wage</th>\n",
       "      <th>unit_of_wage</th>\n",
       "      <th>full_time_position</th>\n",
       "      <th>case_status</th>\n",
       "    </tr>\n",
       "  </thead>\n",
       "  <tbody>\n",
       "    <tr>\n",
       "      <th>0</th>\n",
       "      <td>EZYV01</td>\n",
       "      <td>Asia</td>\n",
       "      <td>High School</td>\n",
       "      <td>N</td>\n",
       "      <td>N</td>\n",
       "      <td>14513</td>\n",
       "      <td>2007</td>\n",
       "      <td>West</td>\n",
       "      <td>592.2029</td>\n",
       "      <td>Hour</td>\n",
       "      <td>Y</td>\n",
       "      <td>Denied</td>\n",
       "    </tr>\n",
       "    <tr>\n",
       "      <th>1</th>\n",
       "      <td>EZYV02</td>\n",
       "      <td>Asia</td>\n",
       "      <td>Master's</td>\n",
       "      <td>Y</td>\n",
       "      <td>N</td>\n",
       "      <td>2412</td>\n",
       "      <td>2002</td>\n",
       "      <td>Northeast</td>\n",
       "      <td>83425.6500</td>\n",
       "      <td>Year</td>\n",
       "      <td>Y</td>\n",
       "      <td>Certified</td>\n",
       "    </tr>\n",
       "    <tr>\n",
       "      <th>2</th>\n",
       "      <td>EZYV03</td>\n",
       "      <td>Asia</td>\n",
       "      <td>Bachelor's</td>\n",
       "      <td>N</td>\n",
       "      <td>Y</td>\n",
       "      <td>44444</td>\n",
       "      <td>2008</td>\n",
       "      <td>West</td>\n",
       "      <td>122996.8600</td>\n",
       "      <td>Year</td>\n",
       "      <td>Y</td>\n",
       "      <td>Denied</td>\n",
       "    </tr>\n",
       "    <tr>\n",
       "      <th>3</th>\n",
       "      <td>EZYV04</td>\n",
       "      <td>Asia</td>\n",
       "      <td>Bachelor's</td>\n",
       "      <td>N</td>\n",
       "      <td>N</td>\n",
       "      <td>98</td>\n",
       "      <td>1897</td>\n",
       "      <td>West</td>\n",
       "      <td>83434.0300</td>\n",
       "      <td>Year</td>\n",
       "      <td>Y</td>\n",
       "      <td>Denied</td>\n",
       "    </tr>\n",
       "    <tr>\n",
       "      <th>5</th>\n",
       "      <td>EZYV06</td>\n",
       "      <td>Asia</td>\n",
       "      <td>Master's</td>\n",
       "      <td>Y</td>\n",
       "      <td>N</td>\n",
       "      <td>2339</td>\n",
       "      <td>2012</td>\n",
       "      <td>South</td>\n",
       "      <td>78252.1400</td>\n",
       "      <td>Year</td>\n",
       "      <td>Y</td>\n",
       "      <td>Certified</td>\n",
       "    </tr>\n",
       "    <tr>\n",
       "      <th>...</th>\n",
       "      <td>...</td>\n",
       "      <td>...</td>\n",
       "      <td>...</td>\n",
       "      <td>...</td>\n",
       "      <td>...</td>\n",
       "      <td>...</td>\n",
       "      <td>...</td>\n",
       "      <td>...</td>\n",
       "      <td>...</td>\n",
       "      <td>...</td>\n",
       "      <td>...</td>\n",
       "      <td>...</td>\n",
       "    </tr>\n",
       "    <tr>\n",
       "      <th>25475</th>\n",
       "      <td>EZYV25476</td>\n",
       "      <td>Asia</td>\n",
       "      <td>Bachelor's</td>\n",
       "      <td>Y</td>\n",
       "      <td>Y</td>\n",
       "      <td>2601</td>\n",
       "      <td>2008</td>\n",
       "      <td>South</td>\n",
       "      <td>77092.5700</td>\n",
       "      <td>Year</td>\n",
       "      <td>Y</td>\n",
       "      <td>Certified</td>\n",
       "    </tr>\n",
       "    <tr>\n",
       "      <th>25476</th>\n",
       "      <td>EZYV25477</td>\n",
       "      <td>Asia</td>\n",
       "      <td>High School</td>\n",
       "      <td>Y</td>\n",
       "      <td>N</td>\n",
       "      <td>3274</td>\n",
       "      <td>2006</td>\n",
       "      <td>Northeast</td>\n",
       "      <td>279174.7900</td>\n",
       "      <td>Year</td>\n",
       "      <td>Y</td>\n",
       "      <td>Certified</td>\n",
       "    </tr>\n",
       "    <tr>\n",
       "      <th>25477</th>\n",
       "      <td>EZYV25478</td>\n",
       "      <td>Asia</td>\n",
       "      <td>Master's</td>\n",
       "      <td>Y</td>\n",
       "      <td>N</td>\n",
       "      <td>1121</td>\n",
       "      <td>1910</td>\n",
       "      <td>South</td>\n",
       "      <td>146298.8500</td>\n",
       "      <td>Year</td>\n",
       "      <td>N</td>\n",
       "      <td>Certified</td>\n",
       "    </tr>\n",
       "    <tr>\n",
       "      <th>25478</th>\n",
       "      <td>EZYV25479</td>\n",
       "      <td>Asia</td>\n",
       "      <td>Master's</td>\n",
       "      <td>Y</td>\n",
       "      <td>Y</td>\n",
       "      <td>1918</td>\n",
       "      <td>1887</td>\n",
       "      <td>West</td>\n",
       "      <td>86154.7700</td>\n",
       "      <td>Year</td>\n",
       "      <td>Y</td>\n",
       "      <td>Certified</td>\n",
       "    </tr>\n",
       "    <tr>\n",
       "      <th>25479</th>\n",
       "      <td>EZYV25480</td>\n",
       "      <td>Asia</td>\n",
       "      <td>Bachelor's</td>\n",
       "      <td>Y</td>\n",
       "      <td>N</td>\n",
       "      <td>3195</td>\n",
       "      <td>1960</td>\n",
       "      <td>Midwest</td>\n",
       "      <td>70876.9100</td>\n",
       "      <td>Year</td>\n",
       "      <td>Y</td>\n",
       "      <td>Certified</td>\n",
       "    </tr>\n",
       "  </tbody>\n",
       "</table>\n",
       "<p>16861 rows × 12 columns</p>\n",
       "</div>"
      ],
      "text/plain": [
       "         case_id continent education_of_employee  ... unit_of_wage full_time_position  case_status\n",
       "0         EZYV01      Asia           High School  ...         Hour                  Y       Denied\n",
       "1         EZYV02      Asia              Master's  ...         Year                  Y    Certified\n",
       "2         EZYV03      Asia            Bachelor's  ...         Year                  Y       Denied\n",
       "3         EZYV04      Asia            Bachelor's  ...         Year                  Y       Denied\n",
       "5         EZYV06      Asia              Master's  ...         Year                  Y    Certified\n",
       "...          ...       ...                   ...  ...          ...                ...          ...\n",
       "25475  EZYV25476      Asia            Bachelor's  ...         Year                  Y    Certified\n",
       "25476  EZYV25477      Asia           High School  ...         Year                  Y    Certified\n",
       "25477  EZYV25478      Asia              Master's  ...         Year                  N    Certified\n",
       "25478  EZYV25479      Asia              Master's  ...         Year                  Y    Certified\n",
       "25479  EZYV25480      Asia            Bachelor's  ...         Year                  Y    Certified\n",
       "\n",
       "[16861 rows x 12 columns]"
      ]
     },
     "execution_count": 148,
     "metadata": {},
     "output_type": "execute_result"
    }
   ],
   "source": [
    "#Step-1: total data\n",
    "visa\n",
    "# step-2: select paticular column\n",
    "visa['continent']\n",
    "#step-3: equating a specific label\n",
    "con=visa['continent']=='Asia'\n",
    "#step-4: pass the true condition to entier dataframe\n",
    "visa[con]\n",
    "#sttep-5:length\n",
    "#len(visa[con])"
   ]
  },
  {
   "cell_type": "code",
   "execution_count": 150,
   "id": "e52a7cc5-f1ca-4f34-97d1-e3a6452bd88e",
   "metadata": {},
   "outputs": [
    {
     "data": {
      "text/plain": [
       "16861"
      ]
     },
     "execution_count": 150,
     "metadata": {},
     "output_type": "execute_result"
    }
   ],
   "source": [
    "len(visa[con])"
   ]
  },
  {
   "cell_type": "code",
   "execution_count": 152,
   "id": "2d07ff2a-a243-4f4a-b5c6-4464d7d00e8b",
   "metadata": {},
   "outputs": [],
   "source": [
    "# con=visa['continent']=='Asia'\n",
    "# len(visa[con])\n",
    "\n",
    "# con=visa['continent']=='Asia'\n",
    "# con=visa['continent']=='Africa'\n",
    "# con=visa['continent']=='South America'\n",
    "# con=visa['continent']=='North America'\n",
    "# con=visa['continent']=='Ocenia'\n",
    "# con=visa['continent']=='Europe'\n",
    "\n",
    "# con=visa['continent']==i\n",
    "# len(visa[con])"
   ]
  },
  {
   "cell_type": "code",
   "execution_count": 154,
   "id": "179247fe-45a7-4d55-ab82-0dafd15cae0b",
   "metadata": {},
   "outputs": [
    {
     "data": {
      "text/plain": [
       "[16861, 551, 3292, 3732, 852, 192]"
      ]
     },
     "execution_count": 154,
     "metadata": {},
     "output_type": "execute_result"
    }
   ],
   "source": [
    "no_of_Applications=[]\n",
    "labels=visa['continent'].unique()\n",
    "for i in labels:\n",
    "    con=visa['continent']==i\n",
    "    count=len(visa[con])\n",
    "    no_of_Applications.append(count)\n",
    "no_of_Applications"
   ]
  },
  {
   "cell_type": "code",
   "execution_count": 156,
   "id": "dd4c32b3-16ca-4fb2-ae8d-f1e70cab6fc0",
   "metadata": {},
   "outputs": [
    {
     "data": {
      "text/plain": [
       "array(['Asia', 'Africa', 'North America', 'Europe', 'South America',\n",
       "       'Oceania'], dtype=object)"
      ]
     },
     "execution_count": 156,
     "metadata": {},
     "output_type": "execute_result"
    }
   ],
   "source": [
    "labels"
   ]
  },
  {
   "cell_type": "code",
   "execution_count": 158,
   "id": "3e21390a-38c8-4ec3-aff6-a15e459671f9",
   "metadata": {},
   "outputs": [
    {
     "data": {
      "text/html": [
       "<div>\n",
       "<style scoped>\n",
       "    .dataframe tbody tr th:only-of-type {\n",
       "        vertical-align: middle;\n",
       "    }\n",
       "\n",
       "    .dataframe tbody tr th {\n",
       "        vertical-align: top;\n",
       "    }\n",
       "\n",
       "    .dataframe thead th {\n",
       "        text-align: right;\n",
       "    }\n",
       "</style>\n",
       "<table border=\"1\" class=\"dataframe\">\n",
       "  <thead>\n",
       "    <tr style=\"text-align: right;\">\n",
       "      <th></th>\n",
       "      <th>0</th>\n",
       "      <th>1</th>\n",
       "      <th>2</th>\n",
       "      <th>3</th>\n",
       "      <th>4</th>\n",
       "      <th>5</th>\n",
       "    </tr>\n",
       "  </thead>\n",
       "  <tbody>\n",
       "    <tr>\n",
       "      <th>0</th>\n",
       "      <td>Asia</td>\n",
       "      <td>Africa</td>\n",
       "      <td>North America</td>\n",
       "      <td>Europe</td>\n",
       "      <td>South America</td>\n",
       "      <td>Oceania</td>\n",
       "    </tr>\n",
       "  </tbody>\n",
       "</table>\n",
       "</div>"
      ],
      "text/plain": [
       "      0       1              2       3              4        5\n",
       "0  Asia  Africa  North America  Europe  South America  Oceania"
      ]
     },
     "execution_count": 158,
     "metadata": {},
     "output_type": "execute_result"
    }
   ],
   "source": [
    "con=[labels]\n",
    "pd.DataFrame(con)"
   ]
  },
  {
   "cell_type": "code",
   "execution_count": 160,
   "id": "a520d85b-a2d6-404e-8c6a-2ffda6466c3c",
   "metadata": {},
   "outputs": [],
   "source": [
    "no_of_Applications=[]\n",
    "labels=visa['continent'].unique()\n",
    "for i in labels:\n",
    "    con=visa['continent']==i\n",
    "    count=len(visa[con])\n",
    "    no_of_Applications.append(count)\n",
    "con_df=pd.DataFrame(zip(labels,no_of_Applications),\n",
    "                   columns=['continent','no_of_Applications'])\n",
    "con_df.to_csv('con_df.csv',index=False)"
   ]
  },
  {
   "cell_type": "code",
   "execution_count": 162,
   "id": "e2ed04d7-5df1-4c6b-8410-5f2d6b9168ea",
   "metadata": {},
   "outputs": [],
   "source": [
    "count=[]  #change-1\n",
    "for col in cat:\n",
    "    labels=visa[col].unique()  # change-2\n",
    "for label in labels:\n",
    "    con=visa['continent']==label\n",
    "    count.append(len(visa[con]))\n",
    "   \n",
    "con_df=pd.DataFrame(zip(labels,no_of_Applications),\n",
    "                   columns=['continent','no_of_Applications'])\n",
    "con_df.to_csv('con_df.csv',index=False)"
   ]
  },
  {
   "cell_type": "code",
   "execution_count": 164,
   "id": "b2bad37a-7ebf-4fb4-a79e-c7ce30c42a2c",
   "metadata": {},
   "outputs": [
    {
     "name": "stdout",
     "output_type": "stream",
     "text": [
      "case_id_df.csv\n",
      "continent_df.csv\n",
      "education_of_employee_df.csv\n",
      "has_job_experience_df.csv\n",
      "requires_job_training_df.csv\n",
      "region_of_employment_df.csv\n",
      "unit_of_wage_df.csv\n",
      "full_time_position_df.csv\n",
      "case_status_df.csv\n"
     ]
    }
   ],
   "source": [
    "for col in cat:\n",
    "    print(f'{col}_df.csv')"
   ]
  },
  {
   "cell_type": "code",
   "execution_count": 41,
   "id": "d68a3bfe-0086-487d-937e-fa7c6feb0afe",
   "metadata": {},
   "outputs": [],
   "source": [
    "count=[]  \n",
    "for col in cat[1:]:\n",
    "    labels=visa[col].unique()\n",
    "    for label in labels:  \n",
    "        con=visa[col]==label\n",
    "        count.append(len(visa[con]))\n",
    "\n",
    "    df=pd.DataFrame(zip(labels,count),columns=['Column','Count'])\n",
    "    df.to_csv(f'{col}_df.csv',index=False)"
   ]
  },
  {
   "cell_type": "code",
   "execution_count": 222,
   "id": "fd57a0cd-fdd1-48c6-bf62-2d5afdef1932",
   "metadata": {},
   "outputs": [
    {
     "data": {
      "text/html": [
       "<div>\n",
       "<style scoped>\n",
       "    .dataframe tbody tr th:only-of-type {\n",
       "        vertical-align: middle;\n",
       "    }\n",
       "\n",
       "    .dataframe tbody tr th {\n",
       "        vertical-align: top;\n",
       "    }\n",
       "\n",
       "    .dataframe thead th {\n",
       "        text-align: right;\n",
       "    }\n",
       "</style>\n",
       "<table border=\"1\" class=\"dataframe\">\n",
       "  <thead>\n",
       "    <tr style=\"text-align: right;\">\n",
       "      <th></th>\n",
       "      <th>continent</th>\n",
       "      <th>no_of_Applications</th>\n",
       "    </tr>\n",
       "  </thead>\n",
       "  <tbody>\n",
       "    <tr>\n",
       "      <th>0</th>\n",
       "      <td>Asia</td>\n",
       "      <td>16861</td>\n",
       "    </tr>\n",
       "    <tr>\n",
       "      <th>1</th>\n",
       "      <td>Europe</td>\n",
       "      <td>3732</td>\n",
       "    </tr>\n",
       "    <tr>\n",
       "      <th>2</th>\n",
       "      <td>North America</td>\n",
       "      <td>3292</td>\n",
       "    </tr>\n",
       "    <tr>\n",
       "      <th>3</th>\n",
       "      <td>South America</td>\n",
       "      <td>852</td>\n",
       "    </tr>\n",
       "    <tr>\n",
       "      <th>4</th>\n",
       "      <td>Africa</td>\n",
       "      <td>551</td>\n",
       "    </tr>\n",
       "    <tr>\n",
       "      <th>5</th>\n",
       "      <td>Oceania</td>\n",
       "      <td>192</td>\n",
       "    </tr>\n",
       "  </tbody>\n",
       "</table>\n",
       "</div>"
      ],
      "text/plain": [
       "       continent  no_of_Applications\n",
       "0           Asia               16861\n",
       "1         Europe                3732\n",
       "2  North America                3292\n",
       "3  South America                 852\n",
       "4         Africa                 551\n",
       "5        Oceania                 192"
      ]
     },
     "execution_count": 222,
     "metadata": {},
     "output_type": "execute_result"
    }
   ],
   "source": [
    "import pandas as pd\n",
    "\n",
    "# Assuming tel is your DataFrame and 'gender' is the column of interest\n",
    "count = visa['continent'].value_counts().reset_index()\n",
    "count.columns = ['continent', 'no_of_Applications']\n",
    "\n",
    "# Save to CSV\n",
    "count.to_csv('condition_df.csv', index=False)\n",
    "\n",
    "# Display the DataFrame\n",
    "count\n"
   ]
  },
  {
   "cell_type": "markdown",
   "id": "1b5309d6-2654-4ec5-84c9-7c708c56a27d",
   "metadata": {},
   "source": [
    "**Value_count**\n"
   ]
  },
  {
   "cell_type": "code",
   "execution_count": 53,
   "id": "9750940b-e3ec-4529-a3a4-b4ee7850d129",
   "metadata": {},
   "outputs": [
    {
     "data": {
      "text/plain": [
       "continent\n",
       "Asia             16861\n",
       "Europe            3732\n",
       "North America     3292\n",
       "South America      852\n",
       "Africa             551\n",
       "Oceania            192\n",
       "Name: count, dtype: int64"
      ]
     },
     "execution_count": 53,
     "metadata": {},
     "output_type": "execute_result"
    }
   ],
   "source": [
    "continent_vc=visa['continent'].value_counts()\n",
    "continent_vc"
   ]
  },
  {
   "cell_type": "code",
   "execution_count": 55,
   "id": "53457350-1bb7-41d1-861a-a4a224641937",
   "metadata": {},
   "outputs": [],
   "source": [
    "keys=continent_vc.keys()"
   ]
  },
  {
   "cell_type": "code",
   "execution_count": 57,
   "id": "f47bba40-2d3a-4ae7-a9fd-a4f845b31964",
   "metadata": {},
   "outputs": [],
   "source": [
    "values=continent_vc.values"
   ]
  },
  {
   "cell_type": "code",
   "execution_count": 59,
   "id": "acf31a5a-9004-408f-99db-d593aa5acb41",
   "metadata": {},
   "outputs": [
    {
     "data": {
      "text/html": [
       "<div>\n",
       "<style scoped>\n",
       "    .dataframe tbody tr th:only-of-type {\n",
       "        vertical-align: middle;\n",
       "    }\n",
       "\n",
       "    .dataframe tbody tr th {\n",
       "        vertical-align: top;\n",
       "    }\n",
       "\n",
       "    .dataframe thead th {\n",
       "        text-align: right;\n",
       "    }\n",
       "</style>\n",
       "<table border=\"1\" class=\"dataframe\">\n",
       "  <thead>\n",
       "    <tr style=\"text-align: right;\">\n",
       "      <th></th>\n",
       "      <th>continents</th>\n",
       "      <th>Number of applications</th>\n",
       "    </tr>\n",
       "  </thead>\n",
       "  <tbody>\n",
       "    <tr>\n",
       "      <th>0</th>\n",
       "      <td>Asia</td>\n",
       "      <td>16861</td>\n",
       "    </tr>\n",
       "    <tr>\n",
       "      <th>1</th>\n",
       "      <td>Europe</td>\n",
       "      <td>3732</td>\n",
       "    </tr>\n",
       "    <tr>\n",
       "      <th>2</th>\n",
       "      <td>North America</td>\n",
       "      <td>3292</td>\n",
       "    </tr>\n",
       "    <tr>\n",
       "      <th>3</th>\n",
       "      <td>South America</td>\n",
       "      <td>852</td>\n",
       "    </tr>\n",
       "    <tr>\n",
       "      <th>4</th>\n",
       "      <td>Africa</td>\n",
       "      <td>551</td>\n",
       "    </tr>\n",
       "    <tr>\n",
       "      <th>5</th>\n",
       "      <td>Oceania</td>\n",
       "      <td>192</td>\n",
       "    </tr>\n",
       "  </tbody>\n",
       "</table>\n",
       "</div>"
      ],
      "text/plain": [
       "      continents  Number of applications\n",
       "0           Asia                   16861\n",
       "1         Europe                    3732\n",
       "2  North America                    3292\n",
       "3  South America                     852\n",
       "4         Africa                     551\n",
       "5        Oceania                     192"
      ]
     },
     "execution_count": 59,
     "metadata": {},
     "output_type": "execute_result"
    }
   ],
   "source": [
    "continent_vc=pd.DataFrame(zip(keys,values),\n",
    "                         columns=['continents','Number of applications'])\n",
    "continent_vc"
   ]
  },
  {
   "cell_type": "code",
   "execution_count": 135,
   "id": "c6efc0bb-fbd2-4a76-a008-11131bec46eb",
   "metadata": {},
   "outputs": [],
   "source": [
    "for i in cat[1:]:\n",
    "    vc=visa[i].value_counts()\n",
    "    ke=vc.keys()\n",
    "    val=vc.values\n",
    "    vdf=pd.DataFrame(zip(ke,val),columns=['labels','count'])\n",
    "    vdf.to_csv(f'{i}.csv',index=False)"
   ]
  },
  {
   "cell_type": "code",
   "execution_count": 63,
   "id": "62153cb9-c17f-4aa2-b380-8cfe441c5859",
   "metadata": {},
   "outputs": [
    {
     "data": {
      "text/plain": [
       "'C:\\\\Users\\\\l\\\\OneDrive\\\\NareshIT\\\\EDA\\\\freq_tbl'"
      ]
     },
     "execution_count": 63,
     "metadata": {},
     "output_type": "execute_result"
    }
   ],
   "source": [
    "r\"C:\\Users\\l\\OneDrive\\NareshIT\\EDA\\freq_tbl\""
   ]
  },
  {
   "cell_type": "markdown",
   "id": "acc89394-0ab6-416c-8afa-81225ac50839",
   "metadata": {},
   "source": [
    "- step-1: create a folder i.e freq_tbl\n",
    "- step-2: get the directory path\n",
    "     - new_directory=python_location+floder_name\n",
    "- step-3: get the full path\n",
    "    - new_directory+column.csv"
   ]
  },
  {
   "cell_type": "code",
   "execution_count": 105,
   "id": "2be508d6-5c4b-4102-8ae9-a5ffd4b84543",
   "metadata": {},
   "outputs": [
    {
     "data": {
      "text/html": [
       "<div>\n",
       "<style scoped>\n",
       "    .dataframe tbody tr th:only-of-type {\n",
       "        vertical-align: middle;\n",
       "    }\n",
       "\n",
       "    .dataframe tbody tr th {\n",
       "        vertical-align: top;\n",
       "    }\n",
       "\n",
       "    .dataframe thead th {\n",
       "        text-align: right;\n",
       "    }\n",
       "</style>\n",
       "<table border=\"1\" class=\"dataframe\">\n",
       "  <thead>\n",
       "    <tr style=\"text-align: right;\">\n",
       "      <th></th>\n",
       "      <th>age;\"job\";\"marital\";\"education\";\"default\";\"balance\";\"housing\";\"loan\";\"contact\";\"day\";\"month\";\"duration\";\"campaign\";\"pdays\";\"previous\";\"poutcome\";\"y\"</th>\n",
       "    </tr>\n",
       "  </thead>\n",
       "  <tbody>\n",
       "    <tr>\n",
       "      <th>0</th>\n",
       "      <td>30;\"unemployed\";\"married\";\"primary\";\"no\";1787;...</td>\n",
       "    </tr>\n",
       "    <tr>\n",
       "      <th>1</th>\n",
       "      <td>33;\"services\";\"married\";\"secondary\";\"no\";4789;...</td>\n",
       "    </tr>\n",
       "    <tr>\n",
       "      <th>2</th>\n",
       "      <td>35;\"management\";\"single\";\"tertiary\";\"no\";1350;...</td>\n",
       "    </tr>\n",
       "    <tr>\n",
       "      <th>3</th>\n",
       "      <td>30;\"management\";\"married\";\"tertiary\";\"no\";1476...</td>\n",
       "    </tr>\n",
       "    <tr>\n",
       "      <th>4</th>\n",
       "      <td>59;\"blue-collar\";\"married\";\"secondary\";\"no\";0;...</td>\n",
       "    </tr>\n",
       "    <tr>\n",
       "      <th>...</th>\n",
       "      <td>...</td>\n",
       "    </tr>\n",
       "    <tr>\n",
       "      <th>4516</th>\n",
       "      <td>33;\"services\";\"married\";\"secondary\";\"no\";-333;...</td>\n",
       "    </tr>\n",
       "    <tr>\n",
       "      <th>4517</th>\n",
       "      <td>57;\"self-employed\";\"married\";\"tertiary\";\"yes\";...</td>\n",
       "    </tr>\n",
       "    <tr>\n",
       "      <th>4518</th>\n",
       "      <td>57;\"technician\";\"married\";\"secondary\";\"no\";295...</td>\n",
       "    </tr>\n",
       "    <tr>\n",
       "      <th>4519</th>\n",
       "      <td>28;\"blue-collar\";\"married\";\"secondary\";\"no\";11...</td>\n",
       "    </tr>\n",
       "    <tr>\n",
       "      <th>4520</th>\n",
       "      <td>44;\"entrepreneur\";\"single\";\"tertiary\";\"no\";113...</td>\n",
       "    </tr>\n",
       "  </tbody>\n",
       "</table>\n",
       "<p>4521 rows × 1 columns</p>\n",
       "</div>"
      ],
      "text/plain": [
       "     age;\"job\";\"marital\";\"education\";\"default\";\"balance\";\"housing\";\"loan\";\"contact\";\"day\";\"month\";\"duration\";\"campaign\";\"pdays\";\"previous\";\"poutcome\";\"y\"\n",
       "0     30;\"unemployed\";\"married\";\"primary\";\"no\";1787;...                                                                                                  \n",
       "1     33;\"services\";\"married\";\"secondary\";\"no\";4789;...                                                                                                  \n",
       "2     35;\"management\";\"single\";\"tertiary\";\"no\";1350;...                                                                                                  \n",
       "3     30;\"management\";\"married\";\"tertiary\";\"no\";1476...                                                                                                  \n",
       "4     59;\"blue-collar\";\"married\";\"secondary\";\"no\";0;...                                                                                                  \n",
       "...                                                 ...                                                                                                  \n",
       "4516  33;\"services\";\"married\";\"secondary\";\"no\";-333;...                                                                                                  \n",
       "4517  57;\"self-employed\";\"married\";\"tertiary\";\"yes\";...                                                                                                  \n",
       "4518  57;\"technician\";\"married\";\"secondary\";\"no\";295...                                                                                                  \n",
       "4519  28;\"blue-collar\";\"married\";\"secondary\";\"no\";11...                                                                                                  \n",
       "4520  44;\"entrepreneur\";\"single\";\"tertiary\";\"no\";113...                                                                                                  \n",
       "\n",
       "[4521 rows x 1 columns]"
      ]
     },
     "execution_count": 105,
     "metadata": {},
     "output_type": "execute_result"
    }
   ],
   "source": [
    "bank=pd.read_csv(r\"C:\\Users\\l\\OneDrive\\NareshIT\\data file\\bank.csv\")\n",
    "bank"
   ]
  },
  {
   "cell_type": "code",
   "execution_count": 115,
   "id": "680ecbc9-c6bc-4e23-8473-363dfefdef9d",
   "metadata": {},
   "outputs": [
    {
     "data": {
      "text/plain": [
       "Index(['age;\"job\";\"marital\";\"education\";\"default\";\"balance\";\"housing\";\"loan\";\"contact\";\"day\";\"month\";\"duration\";\"campaign\";\"pdays\";\"previous\";\"poutcome\";\"y\"'], dtype='object')"
      ]
     },
     "execution_count": 115,
     "metadata": {},
     "output_type": "execute_result"
    }
   ],
   "source": [
    "num=bank.select_dtypes(include='object').columns\n",
    "num"
   ]
  },
  {
   "cell_type": "code",
   "execution_count": 109,
   "id": "329cca2d-96f2-4b0c-b776-c67d5b61d80e",
   "metadata": {},
   "outputs": [
    {
     "data": {
      "text/plain": [
       "Index(['age;\"job\";\"marital\";\"education\";\"default\";\"balance\";\"housing\";\"loan\";\"contact\";\"day\";\"month\";\"duration\";\"campaign\";\"pdays\";\"previous\";\"poutcome\";\"y\"'], dtype='object')"
      ]
     },
     "execution_count": 109,
     "metadata": {},
     "output_type": "execute_result"
    }
   ],
   "source": [
    "cat=bank.select_dtypes(include='object').columns\n",
    "cat"
   ]
  },
  {
   "cell_type": "code",
   "execution_count": null,
   "id": "08064c0e-dcf5-4355-9a17-9cd278ec987e",
   "metadata": {},
   "outputs": [],
   "source": []
  },
  {
   "cell_type": "code",
   "execution_count": null,
   "id": "588b991b-3020-4d83-ba3a-cc8eda00e13a",
   "metadata": {},
   "outputs": [],
   "source": []
  },
  {
   "cell_type": "markdown",
   "id": "457dfc11-0540-4e54-af1a-c98c6d412007",
   "metadata": {},
   "source": [
    "**step-1:Create a Folder**"
   ]
  },
  {
   "cell_type": "code",
   "execution_count": 70,
   "id": "bf000610-a6dc-401e-801a-355bcdc48737",
   "metadata": {},
   "outputs": [
    {
     "ename": "FileExistsError",
     "evalue": "[WinError 183] Cannot create a file when that file already exists: 'freq_tbl'",
     "output_type": "error",
     "traceback": [
      "\u001b[1;31m---------------------------------------------------------------------------\u001b[0m",
      "\u001b[1;31mFileExistsError\u001b[0m                           Traceback (most recent call last)",
      "Cell \u001b[1;32mIn[70], line 3\u001b[0m\n\u001b[0;32m      1\u001b[0m \u001b[38;5;28;01mimport\u001b[39;00m \u001b[38;5;21;01mos\u001b[39;00m\n\u001b[0;32m      2\u001b[0m folder_name\u001b[38;5;241m=\u001b[39m\u001b[38;5;124m'\u001b[39m\u001b[38;5;124mfreq_tbl\u001b[39m\u001b[38;5;124m'\u001b[39m\n\u001b[1;32m----> 3\u001b[0m os\u001b[38;5;241m.\u001b[39mmakedirs(folder_name)\n",
      "File \u001b[1;32m<frozen os>:225\u001b[0m, in \u001b[0;36mmakedirs\u001b[1;34m(name, mode, exist_ok)\u001b[0m\n",
      "\u001b[1;31mFileExistsError\u001b[0m: [WinError 183] Cannot create a file when that file already exists: 'freq_tbl'"
     ]
    }
   ],
   "source": [
    "import os\n",
    "folder_name='freq_tbl'\n",
    "os.makedirs(folder_name)"
   ]
  },
  {
   "cell_type": "code",
   "execution_count": 72,
   "id": "08054b9e-f1a8-46fd-a38b-bcc593e76778",
   "metadata": {},
   "outputs": [
    {
     "name": "stdout",
     "output_type": "stream",
     "text": [
      "[WinError 183] Cannot create a file when that file already exists: 'freq_tbl'\n"
     ]
    }
   ],
   "source": [
    "import os\n",
    "folder_name='freq_tbl'\n",
    "try:\n",
    "    os.makedirs(folder_name)\n",
    "except Exception as e:\n",
    "    print(e)\n",
    "    "
   ]
  },
  {
   "cell_type": "markdown",
   "id": "b9498154-c265-4a53-a4d5-d45f57942a65",
   "metadata": {},
   "source": [
    "**Step-3:New_directory**"
   ]
  },
  {
   "cell_type": "code",
   "execution_count": 75,
   "id": "d535991d-d0c7-4212-a36c-cedd77c7b598",
   "metadata": {},
   "outputs": [
    {
     "data": {
      "text/plain": [
       "'C:\\\\Users\\\\l\\\\OneDrive\\\\NareshIT\\\\EDA\\\\freq_tbl'"
      ]
     },
     "execution_count": 75,
     "metadata": {},
     "output_type": "execute_result"
    }
   ],
   "source": [
    "cwd=os.getcwd()\n",
    "nwd=os.path.join(cwd,folder_name)\n",
    "nwd"
   ]
  },
  {
   "cell_type": "markdown",
   "id": "a521b596-02ed-4907-8af9-d7b66a9042cb",
   "metadata": {},
   "source": [
    "**step-3:Full Paths**"
   ]
  },
  {
   "cell_type": "code",
   "execution_count": 78,
   "id": "de013500-fb69-4d5c-84dc-97fb17f4892b",
   "metadata": {},
   "outputs": [
    {
     "name": "stdout",
     "output_type": "stream",
     "text": [
      "C:\\Users\\l\\OneDrive\\NareshIT\\EDA\\freq_tbl\\continent.df.csv\n",
      "C:\\Users\\l\\OneDrive\\NareshIT\\EDA\\freq_tbl\\education_of_employee.df.csv\n",
      "C:\\Users\\l\\OneDrive\\NareshIT\\EDA\\freq_tbl\\has_job_experience.df.csv\n",
      "C:\\Users\\l\\OneDrive\\NareshIT\\EDA\\freq_tbl\\requires_job_training.df.csv\n",
      "C:\\Users\\l\\OneDrive\\NareshIT\\EDA\\freq_tbl\\region_of_employment.df.csv\n",
      "C:\\Users\\l\\OneDrive\\NareshIT\\EDA\\freq_tbl\\unit_of_wage.df.csv\n",
      "C:\\Users\\l\\OneDrive\\NareshIT\\EDA\\freq_tbl\\full_time_position.df.csv\n",
      "C:\\Users\\l\\OneDrive\\NareshIT\\EDA\\freq_tbl\\case_status.df.csv\n"
     ]
    }
   ],
   "source": [
    "for i in cat[1:]:\n",
    "    file_name=f'{i}.df.csv'\n",
    "    path=os.path.join(nwd,file_name)\n",
    "    print(path)"
   ]
  },
  {
   "cell_type": "code",
   "execution_count": 80,
   "id": "dae8c3d0-55a7-4eab-85ec-41b1dd952f07",
   "metadata": {},
   "outputs": [
    {
     "name": "stdout",
     "output_type": "stream",
     "text": [
      "[WinError 183] Cannot create a file when that file already exists: 'freq_tbl'\n"
     ]
    }
   ],
   "source": [
    "import os\n",
    "folder_name='freq_tbl'\n",
    "try:\n",
    "    os.makedirs(folder_name)\n",
    "except Exception as e:\n",
    "    print(e)\n",
    "######################################################\n",
    "cwd=os.getcwd()\n",
    "nwd=os.path.join(cwd,folder_name)\n",
    "#######################################################\n",
    "for i in cat[1:]:\n",
    "    vc=visa[i].value_counts()\n",
    "    keys=vc.keys()\n",
    "    values=vc.values\n",
    "    vc_df=pd.DataFrame(zip(keys,values),\n",
    "                      columns=['labes','count'])\n",
    "    file_name=f'{i}.df.csv'\n",
    "    path=os.path.join(nwd,file_name)\n",
    "    vc_df.to_csv(path,index=False)\n",
    "# how to  create arctech with code it self "
   ]
  },
  {
   "cell_type": "markdown",
   "id": "ac2b764e-442b-4137-b1c3-5dc1a7a36e9a",
   "metadata": {},
   "source": [
    "**GroupBy**\n",
    "\n",
    "- in SQL we have  group by option is theere\n",
    "- Similarly in python also we have Group by\n",
    "-  Frist It will group the similar lables together\n",
    "-  on that we can perform any  math operations"
   ]
  },
  {
   "cell_type": "code",
   "execution_count": 83,
   "id": "98d52590-1149-4008-89b4-1a0a788dd422",
   "metadata": {},
   "outputs": [
    {
     "data": {
      "text/plain": [
       "<pandas.core.groupby.generic.DataFrameGroupBy object at 0x0000023CF9E0EDB0>"
      ]
     },
     "execution_count": 83,
     "metadata": {},
     "output_type": "execute_result"
    }
   ],
   "source": [
    "visa.groupby('continent')"
   ]
  },
  {
   "cell_type": "code",
   "execution_count": 166,
   "id": "b0561a0b-29c9-4ec5-a417-bf7236f01a1f",
   "metadata": {},
   "outputs": [],
   "source": [
    "# list(visa.groupby('continent'))"
   ]
  },
  {
   "cell_type": "code",
   "execution_count": 87,
   "id": "84b6f83f-3647-4d48-940e-db277c92103e",
   "metadata": {},
   "outputs": [
    {
     "data": {
      "text/plain": [
       "continent\n",
       "Africa             551\n",
       "Asia             16861\n",
       "Europe            3732\n",
       "North America     3292\n",
       "Oceania            192\n",
       "South America      852\n",
       "dtype: int64"
      ]
     },
     "execution_count": 87,
     "metadata": {},
     "output_type": "execute_result"
    }
   ],
   "source": [
    "visa.groupby('continent').size()"
   ]
  },
  {
   "cell_type": "code",
   "execution_count": 89,
   "id": "79999e40-8a98-480a-8b13-a44faa4b6305",
   "metadata": {},
   "outputs": [
    {
     "data": {
      "text/plain": [
       "continent\n",
       "Asia             16861\n",
       "Europe            3732\n",
       "North America     3292\n",
       "South America      852\n",
       "Africa             551\n",
       "Oceania            192\n",
       "Name: count, dtype: int64"
      ]
     },
     "execution_count": 89,
     "metadata": {},
     "output_type": "execute_result"
    }
   ],
   "source": [
    "visa['continent'].value_counts()"
   ]
  },
  {
   "cell_type": "code",
   "execution_count": 91,
   "id": "8bf915df-630d-4339-971e-287c0359f678",
   "metadata": {},
   "outputs": [
    {
     "data": {
      "text/plain": [
       "<BarContainer object of 2 artists>"
      ]
     },
     "execution_count": 91,
     "metadata": {},
     "output_type": "execute_result"
    },
    {
     "data": {
      "image/png": "[encoded data removed]",
      "text/plain": [
       "<Figure size 640x480 with 1 Axes>"
      ]
     },
     "metadata": {},
     "output_type": "display_data"
    }
   ],
   "source": [
    "plt.bar(x=keys,height=values)"
   ]
  },
  {
   "cell_type": "code",
   "execution_count": 100,
   "id": "b8acd876-986b-497a-8f1b-2eb918ca1b3c",
   "metadata": {},
   "outputs": [
    {
     "data": {
      "text/plain": [
       "<BarContainer object of 6 artists>"
      ]
     },
     "execution_count": 100,
     "metadata": {},
     "output_type": "execute_result"
    },
    {
     "data": {
      "image/png": "[encoded data removed]",
      "text/plain": [
       "<Figure size 640x480 with 1 Axes>"
      ]
     },
     "metadata": {},
     "output_type": "display_data"
    }
   ],
   "source": [
    "hello=visa['continent'].value_counts()\n",
    "val=hello.values\n",
    "kys=hello.keys()\n",
    "plt.bar(kys,val)"
   ]
  },
  {
   "cell_type": "code",
   "execution_count": 169,
   "id": "438d8e91-61bf-4377-adec-a502518def09",
   "metadata": {},
   "outputs": [
    {
     "data": {
      "image/png": "[encoded data removed]",
      "text/plain": [
       "<Figure size 1000x500 with 1 Axes>"
      ]
     },
     "metadata": {},
     "output_type": "display_data"
    }
   ],
   "source": [
    "cl_name=visa['continent'].value_counts().keys()\n",
    "cl_freq=visa['continent'].value_counts().values\n",
    "\n",
    "colors=['Red','Green','Yellow','Orange','Blue','Cyan']\n",
    "plt.figure(figsize=(10,5))\n",
    "plt.bar(cl_name,\n",
    "        cl_freq,\n",
    "        color=colors)\n",
    "plt.xlabel('class name')\n",
    "plt.ylabel('class freq')\n",
    "plt.title('Continent_BarChart')\n",
    "plt.savefig('Continent_BarChart.jpg')\n",
    "plt.show()"
   ]
  },
  {
   "cell_type": "code",
   "execution_count": 173,
   "id": "74cda324-aa2b-4e64-a4cc-9737619d2056",
   "metadata": {},
   "outputs": [
    {
     "data": {
      "image/png": "[encoded data removed]",
      "text/plain": [
       "<Figure size 1000x500 with 1 Axes>"
      ]
     },
     "metadata": {},
     "output_type": "display_data"
    }
   ],
   "source": [
    "cl_name=visa['case_status'].value_counts().keys()\n",
    "cl_freq=visa['case_status'].value_counts().values\n",
    "\n",
    "colors=['Red','Green']\n",
    "plt.figure(figsize=(10,5))\n",
    "plt.bar(cl_name,\n",
    "        cl_freq,\n",
    "        color=colors)\n",
    "plt.xlabel('class name')\n",
    "plt.ylabel('class freq')\n",
    "plt.title('Case_Status_BarChart')\n",
    "plt.savefig('Case_status_BarChart.jpg')\n",
    "plt.show()"
   ]
  },
  {
   "cell_type": "code",
   "execution_count": 179,
   "id": "61b529b9-ba18-446f-b7a7-62fa2b851439",
   "metadata": {},
   "outputs": [
    {
     "data": {
      "image/png": "[encoded data removed]",
      "text/plain": [
       "<Figure size 1000x500 with 1 Axes>"
      ]
     },
     "metadata": {},
     "output_type": "display_data"
    },
    {
     "data": {
      "image/png": "[encoded data removed]",
      "text/plain": [
       "<Figure size 1000x500 with 1 Axes>"
      ]
     },
     "metadata": {},
     "output_type": "display_data"
    },
    {
     "data": {
      "image/png": "[encoded data removed]",
      "text/plain": [
       "<Figure size 1000x500 with 1 Axes>"
      ]
     },
     "metadata": {},
     "output_type": "display_data"
    },
    {
     "data": {
      "image/png": "[encoded data removed]",
      "text/plain": [
       "<Figure size 1000x500 with 1 Axes>"
      ]
     },
     "metadata": {},
     "output_type": "display_data"
    },
    {
     "data": {
      "image/png": "[encoded data removed]",
      "text/plain": [
       "<Figure size 1000x500 with 1 Axes>"
      ]
     },
     "metadata": {},
     "output_type": "display_data"
    },
    {
     "data": {
      "image/png": "[encoded data removed]",
      "text/plain": [
       "<Figure size 1000x500 with 1 Axes>"
      ]
     },
     "metadata": {},
     "output_type": "display_data"
    },
    {
     "data": {
      "image/png": "[encoded data removed]",
      "text/plain": [
       "<Figure size 1000x500 with 1 Axes>"
      ]
     },
     "metadata": {},
     "output_type": "display_data"
    },
    {
     "data": {
      "image/png": "[encoded data removed]",
      "text/plain": [
       "<Figure size 1000x500 with 1 Axes>"
      ]
     },
     "metadata": {},
     "output_type": "display_data"
    }
   ],
   "source": [
    "\n",
    "for i in cat[1:]:\n",
    "    cl_name=visa[i].value_counts().keys()\n",
    "    cl_freq=visa[i].value_counts().values\n",
    "    colors=['Red','Green','Yellow','Orange','Blue','Cyan']\n",
    "    plt.figure(figsize=(10,5))\n",
    "    plt.bar(cl_name,\n",
    "            cl_freq,\n",
    "            color=colors)\n",
    "    plt.xlabel('class name')\n",
    "    plt.ylabel('class freq')\n",
    "    plt.title(f'{i}_BarChart')\n",
    "    plt.show()"
   ]
  },
  {
   "cell_type": "code",
   "execution_count": null,
   "id": "150908db-a24b-4ba5-bffb-f527b67c4a7a",
   "metadata": {},
   "outputs": [],
   "source": [
    "- Draw Back :scrolling down (for ex 100 bar chats is there its to difficult to scroll down)"
   ]
  },
  {
   "cell_type": "markdown",
   "id": "97a01fce-4470-498b-a06a-ca37f363e6a6",
   "metadata": {},
   "source": [
    "**Sub_Plots**"
   ]
  },
  {
   "cell_type": "code",
   "execution_count": 182,
   "id": "761669bd-3abf-4fc5-b844-21f73fe5d342",
   "metadata": {},
   "outputs": [
    {
     "data": {
      "text/plain": [
       "<Axes: >"
      ]
     },
     "execution_count": 182,
     "metadata": {},
     "output_type": "execute_result"
    },
    {
     "data": {
      "image/png": "[encoded data removed]",
      "text/plain": [
       "<Figure size 640x480 with 4 Axes>"
      ]
     },
     "metadata": {},
     "output_type": "display_data"
    }
   ],
   "source": [
    "plt.subplot(2,2,1)\n",
    "plt.subplot(2,2,2)\n",
    "plt.subplot(2,2,3)\n",
    "plt.subplot(2,2,4)"
   ]
  },
  {
   "cell_type": "code",
   "execution_count": 192,
   "id": "63b874e5-50b0-49a8-bc7c-074a52dbdfe8",
   "metadata": {},
   "outputs": [
    {
     "data": {
      "image/png": "[encoded data removed]",
      "text/plain": [
       "<Figure size 640x480 with 9 Axes>"
      ]
     },
     "metadata": {},
     "output_type": "display_data"
    }
   ],
   "source": [
    "for i in range(1,10):\n",
    "    plt.subplot(3,3,i)"
   ]
  },
  {
   "cell_type": "code",
   "execution_count": 218,
   "id": "33f0fec4-2975-47da-92e6-1e1a737d3cb4",
   "metadata": {},
   "outputs": [
    {
     "data": {
      "image/png": "[encoded data removed]",
      "text/plain": [
       "<Figure size 1400x1400 with 8 Axes>"
      ]
     },
     "metadata": {},
     "output_type": "display_data"
    }
   ],
   "source": [
    "plt.figure(figsize=(14,14))\n",
    "for i in range(1,len(cat)):\n",
    "    cl_name=visa[cat[i]].value_counts().keys()\n",
    "    cl_freq=visa[cat[i]].value_counts().values\n",
    "    colors=['Red','Green','Yellow','Orange','Blue','Cyan']\n",
    "   \n",
    "    plt.subplot(3,3,i)\n",
    "    plt.bar(cl_name,\n",
    "            cl_freq,\n",
    "            color=colors)\n",
    "    plt.xlabel('class name')\n",
    "    plt.ylabel('class freq')\n",
    "    plt.title(f'{cat[i]}_BarChart')"
   ]
  },
  {
   "cell_type": "code",
   "execution_count": null,
   "id": "976e4fdf-788c-4997-9a38-17b6c78552ae",
   "metadata": {},
   "outputs": [],
   "source": [
    "visa['continent'].value_counts(nor"
   ]
  },
  {
   "cell_type": "markdown",
   "id": "4584844b-ad86-48f6-9756-aa4c70e7e3f0",
   "metadata": {},
   "source": [
    "**Pie_Chart**"
   ]
  },
  {
   "cell_type": "code",
   "execution_count": 253,
   "id": "1fd660b6-f6cd-4602-aeeb-323c53ebb6c6",
   "metadata": {},
   "outputs": [
    {
     "data": {
      "image/png": "[encoded data removed]",
      "text/plain": [
       "<Figure size 640x480 with 1 Axes>"
      ]
     },
     "metadata": {},
     "output_type": "display_data"
    }
   ],
   "source": [
    "ky=visa['continent'].value_counts().keys()\n",
    "vl=visa['continent'].value_counts().values\n",
    "plt.pie(vl,labels=ky,autopct='%0.2f%%',startangle=90,explode=[0.1,0.1,0.1,0.1,0.1,0.1],radius=1)   #\"%value.how many digits we want%\"\n",
    "plt.show()"
   ]
  },
  {
   "cell_type": "code",
   "execution_count": 255,
   "id": "ba437fe6-a217-4e93-84e9-d47ba8e5505f",
   "metadata": {},
   "outputs": [
    {
     "data": {
      "image/png": "[encoded data removed]",
      "text/plain": [
       "<Figure size 640x480 with 1 Axes>"
      ]
     },
     "metadata": {},
     "output_type": "display_data"
    }
   ],
   "source": [
    "ky=visa['continent'].value_counts().keys()\n",
    "vl=visa['continent'].value_counts().values\n",
    "plt.pie(vl,labels=ky,autopct='%0.2f%%',startangle=90,explode=[0.1 for i in range(6)],radius=2)   #\"%value.how many digits we want%\"\n",
    "plt.show()"
   ]
  },
  {
   "cell_type": "code",
   "execution_count": 256,
   "id": "13a755e2-4c7d-4ca4-a0c0-ac6d262070ca",
   "metadata": {},
   "outputs": [],
   "source": [
    "import numpy as np\n",
    "import pandas as pd\n",
    "import matplotlib.pyplot as plt\n",
    "import seaborn as sns\n",
    "\n",
    "wine=pd.read_csv('winequality_red.csv')\n",
    "cat=wine.select_dtypes(include='object').columns\n",
    "num=wine.select_dtypes(include='object').columns"
   ]
  },
  {
   "cell_type": "code",
   "execution_count": 258,
   "id": "0f845a60-97f5-48f0-b55f-39d1aff51804",
   "metadata": {},
   "outputs": [
    {
     "data": {
      "text/plain": [
       "Index(['fixed acidity', 'volatile acidity', 'citric acid', 'residual sugar',\n",
       "       'chlorides', 'free sulfur dioxide', 'total sulfur dioxide', 'density',\n",
       "       'pH', 'sulphates', 'alcohol', 'quality'],\n",
       "      dtype='object')"
      ]
     },
     "execution_count": 258,
     "metadata": {},
     "output_type": "execute_result"
    }
   ],
   "source": [
    "wine.columns"
   ]
  },
  {
   "cell_type": "code",
   "execution_count": 260,
   "id": "2da55d78-58d5-4b2b-8b3f-8b93ce36e4f2",
   "metadata": {},
   "outputs": [
    {
     "data": {
      "text/plain": [
       "Index([], dtype='object')"
      ]
     },
     "execution_count": 260,
     "metadata": {},
     "output_type": "execute_result"
    }
   ],
   "source": [
    "num"
   ]
  },
  {
   "cell_type": "code",
   "execution_count": 262,
   "id": "4a484845-2204-4d28-9b1a-ae8c502e5151",
   "metadata": {},
   "outputs": [
    {
     "data": {
      "text/plain": [
       "Index([], dtype='object')"
      ]
     },
     "execution_count": 262,
     "metadata": {},
     "output_type": "execute_result"
    }
   ],
   "source": [
    "cat"
   ]
  },
  {
   "cell_type": "code",
   "execution_count": 264,
   "id": "9d9b94cf-5fd9-4e6f-a262-2299792c449f",
   "metadata": {},
   "outputs": [
    {
     "data": {
      "text/plain": [
       "array([ 9.4       ,  9.8       , 10.        ,  9.5       , 10.5       ,\n",
       "        9.2       ,  9.9       ,  9.1       ,  9.3       ,  9.        ,\n",
       "        9.7       , 10.1       , 10.6       ,  9.6       , 10.8       ,\n",
       "       10.3       , 13.1       , 10.2       , 10.9       , 10.7       ,\n",
       "       12.9       , 10.4       , 13.        , 14.        , 11.5       ,\n",
       "       11.4       , 12.4       , 11.        , 12.2       , 12.8       ,\n",
       "       12.6       , 12.5       , 11.7       , 11.3       , 12.3       ,\n",
       "       12.        , 11.9       , 11.8       ,  8.7       , 13.3       ,\n",
       "       11.2       , 11.6       , 11.1       , 13.4       , 12.1       ,\n",
       "        8.4       , 12.7       , 14.9       , 13.2       , 13.6       ,\n",
       "       13.5       , 10.03333333,  9.55      ,  8.5       , 11.06666667,\n",
       "        9.56666667, 10.55      ,  8.8       , 13.56666667, 11.95      ,\n",
       "        9.95      ,  9.23333333,  9.25      ,  9.05      , 10.75      ])"
      ]
     },
     "execution_count": 264,
     "metadata": {},
     "output_type": "execute_result"
    }
   ],
   "source": [
    "wine['alcohol'].unique()"
   ]
  },
  {
   "cell_type": "code",
   "execution_count": 266,
   "id": "ae60c79f-e8d1-4ad6-bb32-6ca55834d333",
   "metadata": {},
   "outputs": [
    {
     "data": {
      "text/plain": [
       "65"
      ]
     },
     "execution_count": 266,
     "metadata": {},
     "output_type": "execute_result"
    }
   ],
   "source": [
    "wine['alcohol'].nunique()"
   ]
  },
  {
   "cell_type": "code",
   "execution_count": 13,
   "id": "57445ce2-396d-4e7a-be2a-631952d1f853",
   "metadata": {},
   "outputs": [
    {
     "ename": "NameError",
     "evalue": "name 'lables' is not defined",
     "output_type": "error",
     "traceback": [
      "\u001b[1;31m---------------------------------------------------------------------------\u001b[0m",
      "\u001b[1;31mNameError\u001b[0m                                 Traceback (most recent call last)",
      "Cell \u001b[1;32mIn[13], line 1\u001b[0m\n\u001b[1;32m----> 1\u001b[0m lables\n",
      "\u001b[1;31mNameError\u001b[0m: name 'lables' is not defined"
     ]
    }
   ],
   "source": [
    "#Step-1: total data\n",
    "visa\n",
    "# step-2: select paticular column\n",
    "visa['continent']\n",
    "#step-3: equating a specific label\n",
    "con=visa['continent']=='Asia'\n",
    "#step-4: pass the true condition to entier dataframe\n",
    "visa[con]\n",
    "#sttep-5:length\n",
    "#len(visa[con])"
   ]
  },
  {
   "cell_type": "code",
   "execution_count": 268,
   "id": "0134f4be-c5a7-43b7-a091-f9ceb8a311bc",
   "metadata": {},
   "outputs": [
    {
     "data": {
      "text/html": [
       "<div>\n",
       "<style scoped>\n",
       "    .dataframe tbody tr th:only-of-type {\n",
       "        vertical-align: middle;\n",
       "    }\n",
       "\n",
       "    .dataframe tbody tr th {\n",
       "        vertical-align: top;\n",
       "    }\n",
       "\n",
       "    .dataframe thead th {\n",
       "        text-align: right;\n",
       "    }\n",
       "</style>\n",
       "<table border=\"1\" class=\"dataframe\">\n",
       "  <thead>\n",
       "    <tr style=\"text-align: right;\">\n",
       "      <th></th>\n",
       "      <th>fixed acidity</th>\n",
       "      <th>volatile acidity</th>\n",
       "      <th>citric acid</th>\n",
       "      <th>residual sugar</th>\n",
       "      <th>chlorides</th>\n",
       "      <th>free sulfur dioxide</th>\n",
       "      <th>total sulfur dioxide</th>\n",
       "      <th>density</th>\n",
       "      <th>pH</th>\n",
       "      <th>sulphates</th>\n",
       "      <th>alcohol</th>\n",
       "      <th>quality</th>\n",
       "    </tr>\n",
       "  </thead>\n",
       "  <tbody>\n",
       "  </tbody>\n",
       "</table>\n",
       "</div>"
      ],
      "text/plain": [
       "Empty DataFrame\n",
       "Columns: [fixed acidity, volatile acidity, citric acid, residual sugar, chlorides, free sulfur dioxide, total sulfur dioxide, density, pH, sulphates, alcohol, quality]\n",
       "Index: []"
      ]
     },
     "execution_count": 268,
     "metadata": {},
     "output_type": "execute_result"
    }
   ],
   "source": [
    "wine\n",
    "wine['alcohol']\n",
    "cond=wine['alcohol']=='pH'\n",
    "wine[cond]"
   ]
  },
  {
   "cell_type": "code",
   "execution_count": 21,
   "id": "52071866-a052-42d0-875b-07d86d322708",
   "metadata": {},
   "outputs": [
    {
     "data": {
      "text/html": [
       "<div>\n",
       "<style scoped>\n",
       "    .dataframe tbody tr th:only-of-type {\n",
       "        vertical-align: middle;\n",
       "    }\n",
       "\n",
       "    .dataframe tbody tr th {\n",
       "        vertical-align: top;\n",
       "    }\n",
       "\n",
       "    .dataframe thead th {\n",
       "        text-align: right;\n",
       "    }\n",
       "</style>\n",
       "<table border=\"1\" class=\"dataframe\">\n",
       "  <thead>\n",
       "    <tr style=\"text-align: right;\">\n",
       "      <th></th>\n",
       "      <th>age;\"job\";\"marital\";\"education\";\"default\";\"balance\";\"housing\";\"loan\";\"contact\";\"day\";\"month\";\"duration\";\"campaign\";\"pdays\";\"previous\";\"poutcome\";\"y\"</th>\n",
       "    </tr>\n",
       "  </thead>\n",
       "  <tbody>\n",
       "    <tr>\n",
       "      <th>0</th>\n",
       "      <td>30;\"unemployed\";\"married\";\"primary\";\"no\";1787;...</td>\n",
       "    </tr>\n",
       "    <tr>\n",
       "      <th>1</th>\n",
       "      <td>33;\"services\";\"married\";\"secondary\";\"no\";4789;...</td>\n",
       "    </tr>\n",
       "    <tr>\n",
       "      <th>2</th>\n",
       "      <td>35;\"management\";\"single\";\"tertiary\";\"no\";1350;...</td>\n",
       "    </tr>\n",
       "    <tr>\n",
       "      <th>3</th>\n",
       "      <td>30;\"management\";\"married\";\"tertiary\";\"no\";1476...</td>\n",
       "    </tr>\n",
       "    <tr>\n",
       "      <th>4</th>\n",
       "      <td>59;\"blue-collar\";\"married\";\"secondary\";\"no\";0;...</td>\n",
       "    </tr>\n",
       "    <tr>\n",
       "      <th>...</th>\n",
       "      <td>...</td>\n",
       "    </tr>\n",
       "    <tr>\n",
       "      <th>4516</th>\n",
       "      <td>33;\"services\";\"married\";\"secondary\";\"no\";-333;...</td>\n",
       "    </tr>\n",
       "    <tr>\n",
       "      <th>4517</th>\n",
       "      <td>57;\"self-employed\";\"married\";\"tertiary\";\"yes\";...</td>\n",
       "    </tr>\n",
       "    <tr>\n",
       "      <th>4518</th>\n",
       "      <td>57;\"technician\";\"married\";\"secondary\";\"no\";295...</td>\n",
       "    </tr>\n",
       "    <tr>\n",
       "      <th>4519</th>\n",
       "      <td>28;\"blue-collar\";\"married\";\"secondary\";\"no\";11...</td>\n",
       "    </tr>\n",
       "    <tr>\n",
       "      <th>4520</th>\n",
       "      <td>44;\"entrepreneur\";\"single\";\"tertiary\";\"no\";113...</td>\n",
       "    </tr>\n",
       "  </tbody>\n",
       "</table>\n",
       "<p>4521 rows × 1 columns</p>\n",
       "</div>"
      ],
      "text/plain": [
       "     age;\"job\";\"marital\";\"education\";\"default\";\"balance\";\"housing\";\"loan\";\"contact\";\"day\";\"month\";\"duration\";\"campaign\";\"pdays\";\"previous\";\"poutcome\";\"y\"\n",
       "0     30;\"unemployed\";\"married\";\"primary\";\"no\";1787;...                                                                                                  \n",
       "1     33;\"services\";\"married\";\"secondary\";\"no\";4789;...                                                                                                  \n",
       "2     35;\"management\";\"single\";\"tertiary\";\"no\";1350;...                                                                                                  \n",
       "3     30;\"management\";\"married\";\"tertiary\";\"no\";1476...                                                                                                  \n",
       "4     59;\"blue-collar\";\"married\";\"secondary\";\"no\";0;...                                                                                                  \n",
       "...                                                 ...                                                                                                  \n",
       "4516  33;\"services\";\"married\";\"secondary\";\"no\";-333;...                                                                                                  \n",
       "4517  57;\"self-employed\";\"married\";\"tertiary\";\"yes\";...                                                                                                  \n",
       "4518  57;\"technician\";\"married\";\"secondary\";\"no\";295...                                                                                                  \n",
       "4519  28;\"blue-collar\";\"married\";\"secondary\";\"no\";11...                                                                                                  \n",
       "4520  44;\"entrepreneur\";\"single\";\"tertiary\";\"no\";113...                                                                                                  \n",
       "\n",
       "[4521 rows x 1 columns]"
      ]
     },
     "execution_count": 21,
     "metadata": {},
     "output_type": "execute_result"
    }
   ],
   "source": [
    "bank=pd.read_csv('bank.csv')\n",
    "bank"
   ]
  },
  {
   "cell_type": "code",
   "execution_count": 288,
   "id": "ef30e4a2-7a74-4631-aa66-453fbc262e84",
   "metadata": {},
   "outputs": [
    {
     "data": {
      "text/html": [
       "<div>\n",
       "<style scoped>\n",
       "    .dataframe tbody tr th:only-of-type {\n",
       "        vertical-align: middle;\n",
       "    }\n",
       "\n",
       "    .dataframe tbody tr th {\n",
       "        vertical-align: top;\n",
       "    }\n",
       "\n",
       "    .dataframe thead th {\n",
       "        text-align: right;\n",
       "    }\n",
       "</style>\n",
       "<table border=\"1\" class=\"dataframe\">\n",
       "  <thead>\n",
       "    <tr style=\"text-align: right;\">\n",
       "      <th></th>\n",
       "      <th>year</th>\n",
       "      <th>customer_id</th>\n",
       "      <th>phone_no</th>\n",
       "      <th>gender</th>\n",
       "      <th>age</th>\n",
       "      <th>no_of_days_subscribed</th>\n",
       "      <th>multi_screen</th>\n",
       "      <th>mail_subscribed</th>\n",
       "      <th>weekly_mins_watched</th>\n",
       "      <th>minimum_daily_mins</th>\n",
       "      <th>maximum_daily_mins</th>\n",
       "      <th>weekly_max_night_mins</th>\n",
       "      <th>videos_watched</th>\n",
       "      <th>maximum_days_inactive</th>\n",
       "      <th>customer_support_calls</th>\n",
       "      <th>churn</th>\n",
       "    </tr>\n",
       "  </thead>\n",
       "  <tbody>\n",
       "    <tr>\n",
       "      <th>0</th>\n",
       "      <td>2015</td>\n",
       "      <td>100198</td>\n",
       "      <td>409-8743</td>\n",
       "      <td>Female</td>\n",
       "      <td>36</td>\n",
       "      <td>62</td>\n",
       "      <td>no</td>\n",
       "      <td>no</td>\n",
       "      <td>148.35</td>\n",
       "      <td>12.2</td>\n",
       "      <td>16.81</td>\n",
       "      <td>82</td>\n",
       "      <td>1</td>\n",
       "      <td>4.0</td>\n",
       "      <td>1</td>\n",
       "      <td>0.0</td>\n",
       "    </tr>\n",
       "    <tr>\n",
       "      <th>1</th>\n",
       "      <td>2015</td>\n",
       "      <td>100643</td>\n",
       "      <td>340-5930</td>\n",
       "      <td>Female</td>\n",
       "      <td>39</td>\n",
       "      <td>149</td>\n",
       "      <td>no</td>\n",
       "      <td>no</td>\n",
       "      <td>294.45</td>\n",
       "      <td>7.7</td>\n",
       "      <td>33.37</td>\n",
       "      <td>87</td>\n",
       "      <td>3</td>\n",
       "      <td>3.0</td>\n",
       "      <td>2</td>\n",
       "      <td>0.0</td>\n",
       "    </tr>\n",
       "    <tr>\n",
       "      <th>2</th>\n",
       "      <td>2015</td>\n",
       "      <td>100756</td>\n",
       "      <td>372-3750</td>\n",
       "      <td>Female</td>\n",
       "      <td>65</td>\n",
       "      <td>126</td>\n",
       "      <td>no</td>\n",
       "      <td>no</td>\n",
       "      <td>87.30</td>\n",
       "      <td>11.9</td>\n",
       "      <td>9.89</td>\n",
       "      <td>91</td>\n",
       "      <td>1</td>\n",
       "      <td>4.0</td>\n",
       "      <td>5</td>\n",
       "      <td>1.0</td>\n",
       "    </tr>\n",
       "    <tr>\n",
       "      <th>3</th>\n",
       "      <td>2015</td>\n",
       "      <td>101595</td>\n",
       "      <td>331-4902</td>\n",
       "      <td>Female</td>\n",
       "      <td>24</td>\n",
       "      <td>131</td>\n",
       "      <td>no</td>\n",
       "      <td>yes</td>\n",
       "      <td>321.30</td>\n",
       "      <td>9.5</td>\n",
       "      <td>36.41</td>\n",
       "      <td>102</td>\n",
       "      <td>4</td>\n",
       "      <td>3.0</td>\n",
       "      <td>3</td>\n",
       "      <td>0.0</td>\n",
       "    </tr>\n",
       "    <tr>\n",
       "      <th>4</th>\n",
       "      <td>2015</td>\n",
       "      <td>101653</td>\n",
       "      <td>351-8398</td>\n",
       "      <td>Female</td>\n",
       "      <td>40</td>\n",
       "      <td>191</td>\n",
       "      <td>no</td>\n",
       "      <td>no</td>\n",
       "      <td>243.00</td>\n",
       "      <td>10.9</td>\n",
       "      <td>27.54</td>\n",
       "      <td>83</td>\n",
       "      <td>7</td>\n",
       "      <td>3.0</td>\n",
       "      <td>1</td>\n",
       "      <td>0.0</td>\n",
       "    </tr>\n",
       "    <tr>\n",
       "      <th>...</th>\n",
       "      <td>...</td>\n",
       "      <td>...</td>\n",
       "      <td>...</td>\n",
       "      <td>...</td>\n",
       "      <td>...</td>\n",
       "      <td>...</td>\n",
       "      <td>...</td>\n",
       "      <td>...</td>\n",
       "      <td>...</td>\n",
       "      <td>...</td>\n",
       "      <td>...</td>\n",
       "      <td>...</td>\n",
       "      <td>...</td>\n",
       "      <td>...</td>\n",
       "      <td>...</td>\n",
       "      <td>...</td>\n",
       "    </tr>\n",
       "    <tr>\n",
       "      <th>1995</th>\n",
       "      <td>2015</td>\n",
       "      <td>997132</td>\n",
       "      <td>385-7387</td>\n",
       "      <td>Female</td>\n",
       "      <td>54</td>\n",
       "      <td>75</td>\n",
       "      <td>no</td>\n",
       "      <td>yes</td>\n",
       "      <td>182.25</td>\n",
       "      <td>11.3</td>\n",
       "      <td>20.66</td>\n",
       "      <td>97</td>\n",
       "      <td>5</td>\n",
       "      <td>4.0</td>\n",
       "      <td>2</td>\n",
       "      <td>NaN</td>\n",
       "    </tr>\n",
       "    <tr>\n",
       "      <th>1996</th>\n",
       "      <td>2015</td>\n",
       "      <td>998086</td>\n",
       "      <td>383-9255</td>\n",
       "      <td>Male</td>\n",
       "      <td>45</td>\n",
       "      <td>127</td>\n",
       "      <td>no</td>\n",
       "      <td>no</td>\n",
       "      <td>273.45</td>\n",
       "      <td>9.3</td>\n",
       "      <td>30.99</td>\n",
       "      <td>116</td>\n",
       "      <td>3</td>\n",
       "      <td>3.0</td>\n",
       "      <td>1</td>\n",
       "      <td>0.0</td>\n",
       "    </tr>\n",
       "    <tr>\n",
       "      <th>1997</th>\n",
       "      <td>2015</td>\n",
       "      <td>998474</td>\n",
       "      <td>353-2080</td>\n",
       "      <td>NaN</td>\n",
       "      <td>53</td>\n",
       "      <td>94</td>\n",
       "      <td>no</td>\n",
       "      <td>no</td>\n",
       "      <td>128.85</td>\n",
       "      <td>15.6</td>\n",
       "      <td>14.60</td>\n",
       "      <td>110</td>\n",
       "      <td>16</td>\n",
       "      <td>5.0</td>\n",
       "      <td>0</td>\n",
       "      <td>0.0</td>\n",
       "    </tr>\n",
       "    <tr>\n",
       "      <th>1998</th>\n",
       "      <td>2015</td>\n",
       "      <td>998934</td>\n",
       "      <td>359-7788</td>\n",
       "      <td>Male</td>\n",
       "      <td>40</td>\n",
       "      <td>94</td>\n",
       "      <td>no</td>\n",
       "      <td>no</td>\n",
       "      <td>178.05</td>\n",
       "      <td>10.4</td>\n",
       "      <td>20.18</td>\n",
       "      <td>100</td>\n",
       "      <td>6</td>\n",
       "      <td>NaN</td>\n",
       "      <td>3</td>\n",
       "      <td>0.0</td>\n",
       "    </tr>\n",
       "    <tr>\n",
       "      <th>1999</th>\n",
       "      <td>2015</td>\n",
       "      <td>999961</td>\n",
       "      <td>414-1496</td>\n",
       "      <td>Male</td>\n",
       "      <td>37</td>\n",
       "      <td>73</td>\n",
       "      <td>no</td>\n",
       "      <td>no</td>\n",
       "      <td>326.70</td>\n",
       "      <td>10.3</td>\n",
       "      <td>37.03</td>\n",
       "      <td>89</td>\n",
       "      <td>6</td>\n",
       "      <td>3.0</td>\n",
       "      <td>1</td>\n",
       "      <td>1.0</td>\n",
       "    </tr>\n",
       "  </tbody>\n",
       "</table>\n",
       "<p>2000 rows × 16 columns</p>\n",
       "</div>"
      ],
      "text/plain": [
       "      year  customer_id  phone_no  gender  ...  videos_watched  maximum_days_inactive customer_support_calls churn\n",
       "0     2015       100198  409-8743  Female  ...               1                    4.0                      1   0.0\n",
       "1     2015       100643  340-5930  Female  ...               3                    3.0                      2   0.0\n",
       "2     2015       100756  372-3750  Female  ...               1                    4.0                      5   1.0\n",
       "3     2015       101595  331-4902  Female  ...               4                    3.0                      3   0.0\n",
       "4     2015       101653  351-8398  Female  ...               7                    3.0                      1   0.0\n",
       "...    ...          ...       ...     ...  ...             ...                    ...                    ...   ...\n",
       "1995  2015       997132  385-7387  Female  ...               5                    4.0                      2   NaN\n",
       "1996  2015       998086  383-9255    Male  ...               3                    3.0                      1   0.0\n",
       "1997  2015       998474  353-2080     NaN  ...              16                    5.0                      0   0.0\n",
       "1998  2015       998934  359-7788    Male  ...               6                    NaN                      3   0.0\n",
       "1999  2015       999961  414-1496    Male  ...               6                    3.0                      1   1.0\n",
       "\n",
       "[2000 rows x 16 columns]"
      ]
     },
     "execution_count": 288,
     "metadata": {},
     "output_type": "execute_result"
    }
   ],
   "source": [
    "tel=pd.read_csv('telecom_churn_data.csv')\n",
    "tel"
   ]
  },
  {
   "cell_type": "code",
   "execution_count": 290,
   "id": "81938fd2-522f-4b74-96e9-744e167cb736",
   "metadata": {},
   "outputs": [
    {
     "data": {
      "text/plain": [
       "Index(['year', 'customer_id', 'phone_no', 'gender', 'age',\n",
       "       'no_of_days_subscribed', 'multi_screen', 'mail_subscribed',\n",
       "       'weekly_mins_watched', 'minimum_daily_mins', 'maximum_daily_mins',\n",
       "       'weekly_max_night_mins', 'videos_watched', 'maximum_days_inactive',\n",
       "       'customer_support_calls', 'churn'],\n",
       "      dtype='object')"
      ]
     },
     "execution_count": 290,
     "metadata": {},
     "output_type": "execute_result"
    }
   ],
   "source": [
    "tel.columns"
   ]
  },
  {
   "cell_type": "code",
   "execution_count": 292,
   "id": "92f85f5a-ba5f-427d-8fc1-8debbc76f9a0",
   "metadata": {},
   "outputs": [
    {
     "data": {
      "text/html": [
       "<div>\n",
       "<style scoped>\n",
       "    .dataframe tbody tr th:only-of-type {\n",
       "        vertical-align: middle;\n",
       "    }\n",
       "\n",
       "    .dataframe tbody tr th {\n",
       "        vertical-align: top;\n",
       "    }\n",
       "\n",
       "    .dataframe thead th {\n",
       "        text-align: right;\n",
       "    }\n",
       "</style>\n",
       "<table border=\"1\" class=\"dataframe\">\n",
       "  <thead>\n",
       "    <tr style=\"text-align: right;\">\n",
       "      <th></th>\n",
       "      <th>year</th>\n",
       "      <th>customer_id</th>\n",
       "      <th>phone_no</th>\n",
       "      <th>gender</th>\n",
       "      <th>age</th>\n",
       "      <th>no_of_days_subscribed</th>\n",
       "      <th>multi_screen</th>\n",
       "      <th>mail_subscribed</th>\n",
       "      <th>weekly_mins_watched</th>\n",
       "      <th>minimum_daily_mins</th>\n",
       "      <th>maximum_daily_mins</th>\n",
       "      <th>weekly_max_night_mins</th>\n",
       "      <th>videos_watched</th>\n",
       "      <th>maximum_days_inactive</th>\n",
       "      <th>customer_support_calls</th>\n",
       "      <th>churn</th>\n",
       "    </tr>\n",
       "  </thead>\n",
       "  <tbody>\n",
       "  </tbody>\n",
       "</table>\n",
       "</div>"
      ],
      "text/plain": [
       "Empty DataFrame\n",
       "Columns: [year, customer_id, phone_no, gender, age, no_of_days_subscribed, multi_screen, mail_subscribed, weekly_mins_watched, minimum_daily_mins, maximum_daily_mins, weekly_max_night_mins, videos_watched, maximum_days_inactive, customer_support_calls, churn]\n",
       "Index: []"
      ]
     },
     "execution_count": 292,
     "metadata": {},
     "output_type": "execute_result"
    }
   ],
   "source": [
    "tel\n",
    "tel['gender']\n",
    "cd=tel['gender']=='male'\n",
    "tel[cd]"
   ]
  },
  {
   "cell_type": "code",
   "execution_count": 294,
   "id": "2d471748-822c-4674-93c4-28164d082cd9",
   "metadata": {},
   "outputs": [
    {
     "data": {
      "text/plain": [
       "array([ 9.4       ,  9.8       , 10.        ,  9.5       , 10.5       ,\n",
       "        9.2       ,  9.9       ,  9.1       ,  9.3       ,  9.        ,\n",
       "        9.7       , 10.1       , 10.6       ,  9.6       , 10.8       ,\n",
       "       10.3       , 13.1       , 10.2       , 10.9       , 10.7       ,\n",
       "       12.9       , 10.4       , 13.        , 14.        , 11.5       ,\n",
       "       11.4       , 12.4       , 11.        , 12.2       , 12.8       ,\n",
       "       12.6       , 12.5       , 11.7       , 11.3       , 12.3       ,\n",
       "       12.        , 11.9       , 11.8       ,  8.7       , 13.3       ,\n",
       "       11.2       , 11.6       , 11.1       , 13.4       , 12.1       ,\n",
       "        8.4       , 12.7       , 14.9       , 13.2       , 13.6       ,\n",
       "       13.5       , 10.03333333,  9.55      ,  8.5       , 11.06666667,\n",
       "        9.56666667, 10.55      ,  8.8       , 13.56666667, 11.95      ,\n",
       "        9.95      ,  9.23333333,  9.25      ,  9.05      , 10.75      ])"
      ]
     },
     "execution_count": 294,
     "metadata": {},
     "output_type": "execute_result"
    }
   ],
   "source": [
    "lables"
   ]
  },
  {
   "cell_type": "code",
   "execution_count": 296,
   "id": "c99d7782-8ead-4880-91d3-df6dbaf932a5",
   "metadata": {},
   "outputs": [
    {
     "data": {
      "text/html": [
       "<div>\n",
       "<style scoped>\n",
       "    .dataframe tbody tr th:only-of-type {\n",
       "        vertical-align: middle;\n",
       "    }\n",
       "\n",
       "    .dataframe tbody tr th {\n",
       "        vertical-align: top;\n",
       "    }\n",
       "\n",
       "    .dataframe thead th {\n",
       "        text-align: right;\n",
       "    }\n",
       "</style>\n",
       "<table border=\"1\" class=\"dataframe\">\n",
       "  <thead>\n",
       "    <tr style=\"text-align: right;\">\n",
       "      <th></th>\n",
       "      <th>0</th>\n",
       "      <th>1</th>\n",
       "      <th>2</th>\n",
       "      <th>3</th>\n",
       "      <th>4</th>\n",
       "      <th>5</th>\n",
       "      <th>6</th>\n",
       "      <th>7</th>\n",
       "      <th>8</th>\n",
       "      <th>9</th>\n",
       "      <th>10</th>\n",
       "      <th>11</th>\n",
       "      <th>12</th>\n",
       "      <th>13</th>\n",
       "      <th>14</th>\n",
       "      <th>15</th>\n",
       "      <th>16</th>\n",
       "      <th>17</th>\n",
       "      <th>18</th>\n",
       "      <th>19</th>\n",
       "      <th>20</th>\n",
       "      <th>21</th>\n",
       "      <th>22</th>\n",
       "      <th>23</th>\n",
       "      <th>24</th>\n",
       "      <th>25</th>\n",
       "      <th>26</th>\n",
       "      <th>27</th>\n",
       "      <th>28</th>\n",
       "      <th>29</th>\n",
       "      <th>30</th>\n",
       "      <th>31</th>\n",
       "      <th>32</th>\n",
       "      <th>33</th>\n",
       "      <th>34</th>\n",
       "      <th>35</th>\n",
       "      <th>36</th>\n",
       "      <th>37</th>\n",
       "      <th>38</th>\n",
       "      <th>39</th>\n",
       "      <th>40</th>\n",
       "      <th>41</th>\n",
       "      <th>42</th>\n",
       "      <th>43</th>\n",
       "      <th>44</th>\n",
       "      <th>45</th>\n",
       "      <th>46</th>\n",
       "      <th>47</th>\n",
       "      <th>48</th>\n",
       "      <th>49</th>\n",
       "      <th>50</th>\n",
       "      <th>51</th>\n",
       "      <th>52</th>\n",
       "      <th>53</th>\n",
       "      <th>54</th>\n",
       "      <th>55</th>\n",
       "      <th>56</th>\n",
       "      <th>57</th>\n",
       "      <th>58</th>\n",
       "      <th>59</th>\n",
       "      <th>60</th>\n",
       "      <th>61</th>\n",
       "      <th>62</th>\n",
       "      <th>63</th>\n",
       "      <th>64</th>\n",
       "    </tr>\n",
       "  </thead>\n",
       "  <tbody>\n",
       "    <tr>\n",
       "      <th>0</th>\n",
       "      <td>9.4</td>\n",
       "      <td>9.8</td>\n",
       "      <td>10.0</td>\n",
       "      <td>9.5</td>\n",
       "      <td>10.5</td>\n",
       "      <td>9.2</td>\n",
       "      <td>9.9</td>\n",
       "      <td>9.1</td>\n",
       "      <td>9.3</td>\n",
       "      <td>9.0</td>\n",
       "      <td>9.7</td>\n",
       "      <td>10.1</td>\n",
       "      <td>10.6</td>\n",
       "      <td>9.6</td>\n",
       "      <td>10.8</td>\n",
       "      <td>10.3</td>\n",
       "      <td>13.1</td>\n",
       "      <td>10.2</td>\n",
       "      <td>10.9</td>\n",
       "      <td>10.7</td>\n",
       "      <td>12.9</td>\n",
       "      <td>10.4</td>\n",
       "      <td>13.0</td>\n",
       "      <td>14.0</td>\n",
       "      <td>11.5</td>\n",
       "      <td>11.4</td>\n",
       "      <td>12.4</td>\n",
       "      <td>11.0</td>\n",
       "      <td>12.2</td>\n",
       "      <td>12.8</td>\n",
       "      <td>12.6</td>\n",
       "      <td>12.5</td>\n",
       "      <td>11.7</td>\n",
       "      <td>11.3</td>\n",
       "      <td>12.3</td>\n",
       "      <td>12.0</td>\n",
       "      <td>11.9</td>\n",
       "      <td>11.8</td>\n",
       "      <td>8.7</td>\n",
       "      <td>13.3</td>\n",
       "      <td>11.2</td>\n",
       "      <td>11.6</td>\n",
       "      <td>11.1</td>\n",
       "      <td>13.4</td>\n",
       "      <td>12.1</td>\n",
       "      <td>8.4</td>\n",
       "      <td>12.7</td>\n",
       "      <td>14.9</td>\n",
       "      <td>13.2</td>\n",
       "      <td>13.6</td>\n",
       "      <td>13.5</td>\n",
       "      <td>10.033333</td>\n",
       "      <td>9.55</td>\n",
       "      <td>8.5</td>\n",
       "      <td>11.066667</td>\n",
       "      <td>9.566667</td>\n",
       "      <td>10.55</td>\n",
       "      <td>8.8</td>\n",
       "      <td>13.566667</td>\n",
       "      <td>11.95</td>\n",
       "      <td>9.95</td>\n",
       "      <td>9.233333</td>\n",
       "      <td>9.25</td>\n",
       "      <td>9.05</td>\n",
       "      <td>10.75</td>\n",
       "    </tr>\n",
       "  </tbody>\n",
       "</table>\n",
       "</div>"
      ],
      "text/plain": [
       "    0    1     2    3     4    5    6    7    8   ...     56   57         58     59    60        61    62    63     64\n",
       "0  9.4  9.8  10.0  9.5  10.5  9.2  9.9  9.1  9.3  ...  10.55  8.8  13.566667  11.95  9.95  9.233333  9.25  9.05  10.75\n",
       "\n",
       "[1 rows x 65 columns]"
      ]
     },
     "execution_count": 296,
     "metadata": {},
     "output_type": "execute_result"
    }
   ],
   "source": [
    "cd=[lables]\n",
    "pd.DataFrame(cd)"
   ]
  },
  {
   "cell_type": "code",
   "execution_count": 298,
   "id": "b88e87a2-97fd-4e37-9c01-a15ad4bd1936",
   "metadata": {},
   "outputs": [
    {
     "data": {
      "text/plain": [
       "[923, 0, 1053]"
      ]
     },
     "execution_count": 298,
     "metadata": {},
     "output_type": "execute_result"
    }
   ],
   "source": [
    "no_of_cl=[]\n",
    "lables=tel['gender'].unique()\n",
    "for i in lables:\n",
    "    cd=tel['gender']==i\n",
    "    count=len(tel[cd])\n",
    "    no_of_cl.append(count)\n",
    "no_of_cl"
   ]
  },
  {
   "cell_type": "code",
   "execution_count": 300,
   "id": "358a5422-f94c-4ec3-be48-1462dcaed9ca",
   "metadata": {},
   "outputs": [
    {
     "data": {
      "text/html": [
       "<div>\n",
       "<style scoped>\n",
       "    .dataframe tbody tr th:only-of-type {\n",
       "        vertical-align: middle;\n",
       "    }\n",
       "\n",
       "    .dataframe tbody tr th {\n",
       "        vertical-align: top;\n",
       "    }\n",
       "\n",
       "    .dataframe thead th {\n",
       "        text-align: right;\n",
       "    }\n",
       "</style>\n",
       "<table border=\"1\" class=\"dataframe\">\n",
       "  <thead>\n",
       "    <tr style=\"text-align: right;\">\n",
       "      <th></th>\n",
       "      <th>gender</th>\n",
       "      <th>no_of_cl</th>\n",
       "    </tr>\n",
       "  </thead>\n",
       "  <tbody>\n",
       "    <tr>\n",
       "      <th>0</th>\n",
       "      <td>Female</td>\n",
       "      <td>923</td>\n",
       "    </tr>\n",
       "    <tr>\n",
       "      <th>1</th>\n",
       "      <td>NaN</td>\n",
       "      <td>0</td>\n",
       "    </tr>\n",
       "    <tr>\n",
       "      <th>2</th>\n",
       "      <td>Male</td>\n",
       "      <td>1053</td>\n",
       "    </tr>\n",
       "  </tbody>\n",
       "</table>\n",
       "</div>"
      ],
      "text/plain": [
       "   gender  no_of_cl\n",
       "0  Female       923\n",
       "1     NaN         0\n",
       "2    Male      1053"
      ]
     },
     "execution_count": 300,
     "metadata": {},
     "output_type": "execute_result"
    }
   ],
   "source": [
    "no_of_cl=[]\n",
    "lables=tel['gender'].unique()\n",
    "for i in lables:\n",
    "    cd=tel['gender']==i\n",
    "    count=len(tel[cd])\n",
    "    no_of_cl.append(count)\n",
    "cd_df=pd.DataFrame(zip(lables,no_of_cl),\n",
    "                  columns=['gender','no_of_cl'])\n",
    "cd_df.to_csv('cd_df_csv',index=False)\n",
    "cd_df"
   ]
  },
  {
   "cell_type": "code",
   "execution_count": 302,
   "id": "b62ac3f7-de36-4ceb-a948-f4c330168fa1",
   "metadata": {},
   "outputs": [
    {
     "data": {
      "text/plain": [
       "<bound method IndexOpsMixin.value_counts of 0       Female\n",
       "1       Female\n",
       "2       Female\n",
       "3       Female\n",
       "4       Female\n",
       "         ...  \n",
       "1995    Female\n",
       "1996      Male\n",
       "1997       NaN\n",
       "1998      Male\n",
       "1999      Male\n",
       "Name: gender, Length: 2000, dtype: object>"
      ]
     },
     "execution_count": 302,
     "metadata": {},
     "output_type": "execute_result"
    }
   ],
   "source": [
    "tel['gender'].value_counts"
   ]
  },
  {
   "cell_type": "code",
   "execution_count": 304,
   "id": "077ad7da-146b-4866-8a36-5b29b66d9441",
   "metadata": {},
   "outputs": [
    {
     "data": {
      "text/html": [
       "<div>\n",
       "<style scoped>\n",
       "    .dataframe tbody tr th:only-of-type {\n",
       "        vertical-align: middle;\n",
       "    }\n",
       "\n",
       "    .dataframe tbody tr th {\n",
       "        vertical-align: top;\n",
       "    }\n",
       "\n",
       "    .dataframe thead th {\n",
       "        text-align: right;\n",
       "    }\n",
       "</style>\n",
       "<table border=\"1\" class=\"dataframe\">\n",
       "  <thead>\n",
       "    <tr style=\"text-align: right;\">\n",
       "      <th></th>\n",
       "      <th>gender</th>\n",
       "      <th>no_of_cl</th>\n",
       "    </tr>\n",
       "  </thead>\n",
       "  <tbody>\n",
       "    <tr>\n",
       "      <th>0</th>\n",
       "      <td>Denied</td>\n",
       "      <td>923</td>\n",
       "    </tr>\n",
       "    <tr>\n",
       "      <th>1</th>\n",
       "      <td>Certified</td>\n",
       "      <td>0</td>\n",
       "    </tr>\n",
       "  </tbody>\n",
       "</table>\n",
       "</div>"
      ],
      "text/plain": [
       "      gender  no_of_cl\n",
       "0     Denied       923\n",
       "1  Certified         0"
      ]
     },
     "execution_count": 304,
     "metadata": {},
     "output_type": "execute_result"
    }
   ],
   "source": [
    "count=[]  #change-1\n",
    "for col in cat:\n",
    "    labels=tel[col].unique()  # change-2\n",
    "for label in labels:\n",
    "    con=tel['gender']==label\n",
    "    count.append(len(tel[cd]))\n",
    "   \n",
    "cd_df=pd.DataFrame(zip(labels,no_of_cl),\n",
    "                   columns=['gender','no_of_cl'])\n",
    "cd_df.to_csv('cd_df.csv',index=False)\n",
    "cd_df"
   ]
  },
  {
   "cell_type": "code",
   "execution_count": 306,
   "id": "abe4b9ae-4441-4ab3-ab0e-39de32558747",
   "metadata": {},
   "outputs": [
    {
     "data": {
      "text/html": [
       "<div>\n",
       "<style scoped>\n",
       "    .dataframe tbody tr th:only-of-type {\n",
       "        vertical-align: middle;\n",
       "    }\n",
       "\n",
       "    .dataframe tbody tr th {\n",
       "        vertical-align: top;\n",
       "    }\n",
       "\n",
       "    .dataframe thead th {\n",
       "        text-align: right;\n",
       "    }\n",
       "</style>\n",
       "<table border=\"1\" class=\"dataframe\">\n",
       "  <thead>\n",
       "    <tr style=\"text-align: right;\">\n",
       "      <th></th>\n",
       "      <th>gender</th>\n",
       "      <th>no_of_tl</th>\n",
       "    </tr>\n",
       "  </thead>\n",
       "  <tbody>\n",
       "    <tr>\n",
       "      <th>0</th>\n",
       "      <td>Male</td>\n",
       "      <td>1053</td>\n",
       "    </tr>\n",
       "    <tr>\n",
       "      <th>1</th>\n",
       "      <td>Female</td>\n",
       "      <td>923</td>\n",
       "    </tr>\n",
       "  </tbody>\n",
       "</table>\n",
       "</div>"
      ],
      "text/plain": [
       "   gender  no_of_tl\n",
       "0    Male      1053\n",
       "1  Female       923"
      ]
     },
     "execution_count": 306,
     "metadata": {},
     "output_type": "execute_result"
    }
   ],
   "source": [
    "import pandas as pd\n",
    "\n",
    "# Assuming tel is your DataFrame and 'gender' is the column of interest\n",
    "count = tel['gender'].value_counts().reset_index()\n",
    "count.columns = ['gender', 'no_of_tl']\n",
    "\n",
    "# Save to CSV\n",
    "count.to_csv('cd_df.csv', index=False)\n",
    "\n",
    "# Display the DataFrame\n",
    "count\n"
   ]
  },
  {
   "cell_type": "code",
   "execution_count": 270,
   "id": "5f4f85ee-7598-42a8-aa32-d6fba3a284b9",
   "metadata": {},
   "outputs": [
    {
     "data": {
      "text/plain": [
       "[103,\n",
       " 78,\n",
       " 67,\n",
       " 139,\n",
       " 67,\n",
       " 72,\n",
       " 49,\n",
       " 23,\n",
       " 59,\n",
       " 30,\n",
       " 54,\n",
       " 47,\n",
       " 28,\n",
       " 59,\n",
       " 42,\n",
       " 33,\n",
       " 2,\n",
       " 46,\n",
       " 49,\n",
       " 27,\n",
       " 9,\n",
       " 41,\n",
       " 6,\n",
       " 7,\n",
       " 30,\n",
       " 32,\n",
       " 13,\n",
       " 59,\n",
       " 12,\n",
       " 17,\n",
       " 6,\n",
       " 21,\n",
       " 23,\n",
       " 32,\n",
       " 12,\n",
       " 21,\n",
       " 20,\n",
       " 29,\n",
       " 2,\n",
       " 3,\n",
       " 36,\n",
       " 15,\n",
       " 27,\n",
       " 3,\n",
       " 13,\n",
       " 2,\n",
       " 9,\n",
       " 1,\n",
       " 1,\n",
       " 4,\n",
       " 1,\n",
       " 2,\n",
       " 2,\n",
       " 1,\n",
       " 1,\n",
       " 1,\n",
       " 2,\n",
       " 2,\n",
       " 1,\n",
       " 1,\n",
       " 1,\n",
       " 1,\n",
       " 1,\n",
       " 1,\n",
       " 1]"
      ]
     },
     "execution_count": 270,
     "metadata": {},
     "output_type": "execute_result"
    }
   ],
   "source": [
    "no_of_al=[]\n",
    "lables=wine['alcohol'].unique()\n",
    "for i in lables:\n",
    "    cond=wine['alcohol']==i\n",
    "    count=len(wine[cond])\n",
    "    no_of_al.append(count)\n",
    "no_of_al"
   ]
  },
  {
   "cell_type": "code",
   "execution_count": 272,
   "id": "7bb7fd41-6ed0-4214-8d3f-3a9641ff931e",
   "metadata": {},
   "outputs": [
    {
     "data": {
      "text/plain": [
       "array([ 9.4       ,  9.8       , 10.        ,  9.5       , 10.5       ,\n",
       "        9.2       ,  9.9       ,  9.1       ,  9.3       ,  9.        ,\n",
       "        9.7       , 10.1       , 10.6       ,  9.6       , 10.8       ,\n",
       "       10.3       , 13.1       , 10.2       , 10.9       , 10.7       ,\n",
       "       12.9       , 10.4       , 13.        , 14.        , 11.5       ,\n",
       "       11.4       , 12.4       , 11.        , 12.2       , 12.8       ,\n",
       "       12.6       , 12.5       , 11.7       , 11.3       , 12.3       ,\n",
       "       12.        , 11.9       , 11.8       ,  8.7       , 13.3       ,\n",
       "       11.2       , 11.6       , 11.1       , 13.4       , 12.1       ,\n",
       "        8.4       , 12.7       , 14.9       , 13.2       , 13.6       ,\n",
       "       13.5       , 10.03333333,  9.55      ,  8.5       , 11.06666667,\n",
       "        9.56666667, 10.55      ,  8.8       , 13.56666667, 11.95      ,\n",
       "        9.95      ,  9.23333333,  9.25      ,  9.05      , 10.75      ])"
      ]
     },
     "execution_count": 272,
     "metadata": {},
     "output_type": "execute_result"
    }
   ],
   "source": [
    "lables"
   ]
  },
  {
   "cell_type": "code",
   "execution_count": 274,
   "id": "a129ed08-e052-4ad4-b47c-b02252ddfea2",
   "metadata": {},
   "outputs": [
    {
     "data": {
      "text/html": [
       "<div>\n",
       "<style scoped>\n",
       "    .dataframe tbody tr th:only-of-type {\n",
       "        vertical-align: middle;\n",
       "    }\n",
       "\n",
       "    .dataframe tbody tr th {\n",
       "        vertical-align: top;\n",
       "    }\n",
       "\n",
       "    .dataframe thead th {\n",
       "        text-align: right;\n",
       "    }\n",
       "</style>\n",
       "<table border=\"1\" class=\"dataframe\">\n",
       "  <thead>\n",
       "    <tr style=\"text-align: right;\">\n",
       "      <th></th>\n",
       "      <th>0</th>\n",
       "      <th>1</th>\n",
       "      <th>2</th>\n",
       "      <th>3</th>\n",
       "      <th>4</th>\n",
       "      <th>5</th>\n",
       "      <th>6</th>\n",
       "      <th>7</th>\n",
       "      <th>8</th>\n",
       "      <th>9</th>\n",
       "      <th>10</th>\n",
       "      <th>11</th>\n",
       "      <th>12</th>\n",
       "      <th>13</th>\n",
       "      <th>14</th>\n",
       "      <th>15</th>\n",
       "      <th>16</th>\n",
       "      <th>17</th>\n",
       "      <th>18</th>\n",
       "      <th>19</th>\n",
       "      <th>20</th>\n",
       "      <th>21</th>\n",
       "      <th>22</th>\n",
       "      <th>23</th>\n",
       "      <th>24</th>\n",
       "      <th>25</th>\n",
       "      <th>26</th>\n",
       "      <th>27</th>\n",
       "      <th>28</th>\n",
       "      <th>29</th>\n",
       "      <th>30</th>\n",
       "      <th>31</th>\n",
       "      <th>32</th>\n",
       "      <th>33</th>\n",
       "      <th>34</th>\n",
       "      <th>35</th>\n",
       "      <th>36</th>\n",
       "      <th>37</th>\n",
       "      <th>38</th>\n",
       "      <th>39</th>\n",
       "      <th>40</th>\n",
       "      <th>41</th>\n",
       "      <th>42</th>\n",
       "      <th>43</th>\n",
       "      <th>44</th>\n",
       "      <th>45</th>\n",
       "      <th>46</th>\n",
       "      <th>47</th>\n",
       "      <th>48</th>\n",
       "      <th>49</th>\n",
       "      <th>50</th>\n",
       "      <th>51</th>\n",
       "      <th>52</th>\n",
       "      <th>53</th>\n",
       "      <th>54</th>\n",
       "      <th>55</th>\n",
       "      <th>56</th>\n",
       "      <th>57</th>\n",
       "      <th>58</th>\n",
       "      <th>59</th>\n",
       "      <th>60</th>\n",
       "      <th>61</th>\n",
       "      <th>62</th>\n",
       "      <th>63</th>\n",
       "      <th>64</th>\n",
       "    </tr>\n",
       "  </thead>\n",
       "  <tbody>\n",
       "    <tr>\n",
       "      <th>0</th>\n",
       "      <td>9.4</td>\n",
       "      <td>9.8</td>\n",
       "      <td>10.0</td>\n",
       "      <td>9.5</td>\n",
       "      <td>10.5</td>\n",
       "      <td>9.2</td>\n",
       "      <td>9.9</td>\n",
       "      <td>9.1</td>\n",
       "      <td>9.3</td>\n",
       "      <td>9.0</td>\n",
       "      <td>9.7</td>\n",
       "      <td>10.1</td>\n",
       "      <td>10.6</td>\n",
       "      <td>9.6</td>\n",
       "      <td>10.8</td>\n",
       "      <td>10.3</td>\n",
       "      <td>13.1</td>\n",
       "      <td>10.2</td>\n",
       "      <td>10.9</td>\n",
       "      <td>10.7</td>\n",
       "      <td>12.9</td>\n",
       "      <td>10.4</td>\n",
       "      <td>13.0</td>\n",
       "      <td>14.0</td>\n",
       "      <td>11.5</td>\n",
       "      <td>11.4</td>\n",
       "      <td>12.4</td>\n",
       "      <td>11.0</td>\n",
       "      <td>12.2</td>\n",
       "      <td>12.8</td>\n",
       "      <td>12.6</td>\n",
       "      <td>12.5</td>\n",
       "      <td>11.7</td>\n",
       "      <td>11.3</td>\n",
       "      <td>12.3</td>\n",
       "      <td>12.0</td>\n",
       "      <td>11.9</td>\n",
       "      <td>11.8</td>\n",
       "      <td>8.7</td>\n",
       "      <td>13.3</td>\n",
       "      <td>11.2</td>\n",
       "      <td>11.6</td>\n",
       "      <td>11.1</td>\n",
       "      <td>13.4</td>\n",
       "      <td>12.1</td>\n",
       "      <td>8.4</td>\n",
       "      <td>12.7</td>\n",
       "      <td>14.9</td>\n",
       "      <td>13.2</td>\n",
       "      <td>13.6</td>\n",
       "      <td>13.5</td>\n",
       "      <td>10.033333</td>\n",
       "      <td>9.55</td>\n",
       "      <td>8.5</td>\n",
       "      <td>11.066667</td>\n",
       "      <td>9.566667</td>\n",
       "      <td>10.55</td>\n",
       "      <td>8.8</td>\n",
       "      <td>13.566667</td>\n",
       "      <td>11.95</td>\n",
       "      <td>9.95</td>\n",
       "      <td>9.233333</td>\n",
       "      <td>9.25</td>\n",
       "      <td>9.05</td>\n",
       "      <td>10.75</td>\n",
       "    </tr>\n",
       "  </tbody>\n",
       "</table>\n",
       "</div>"
      ],
      "text/plain": [
       "    0    1     2    3     4    5    6    7    8   ...     56   57         58     59    60        61    62    63     64\n",
       "0  9.4  9.8  10.0  9.5  10.5  9.2  9.9  9.1  9.3  ...  10.55  8.8  13.566667  11.95  9.95  9.233333  9.25  9.05  10.75\n",
       "\n",
       "[1 rows x 65 columns]"
      ]
     },
     "execution_count": 274,
     "metadata": {},
     "output_type": "execute_result"
    }
   ],
   "source": [
    "cond=[lables]\n",
    "pd.DataFrame(cond)"
   ]
  },
  {
   "cell_type": "code",
   "execution_count": 276,
   "id": "99bde0a2-1069-44a5-9763-3aea3ac09273",
   "metadata": {},
   "outputs": [
    {
     "data": {
      "text/html": [
       "<div>\n",
       "<style scoped>\n",
       "    .dataframe tbody tr th:only-of-type {\n",
       "        vertical-align: middle;\n",
       "    }\n",
       "\n",
       "    .dataframe tbody tr th {\n",
       "        vertical-align: top;\n",
       "    }\n",
       "\n",
       "    .dataframe thead th {\n",
       "        text-align: right;\n",
       "    }\n",
       "</style>\n",
       "<table border=\"1\" class=\"dataframe\">\n",
       "  <thead>\n",
       "    <tr style=\"text-align: right;\">\n",
       "      <th></th>\n",
       "      <th>alcohol</th>\n",
       "      <th>no_of_al</th>\n",
       "    </tr>\n",
       "  </thead>\n",
       "  <tbody>\n",
       "    <tr>\n",
       "      <th>0</th>\n",
       "      <td>9.400000</td>\n",
       "      <td>103</td>\n",
       "    </tr>\n",
       "    <tr>\n",
       "      <th>1</th>\n",
       "      <td>9.800000</td>\n",
       "      <td>78</td>\n",
       "    </tr>\n",
       "    <tr>\n",
       "      <th>2</th>\n",
       "      <td>10.000000</td>\n",
       "      <td>67</td>\n",
       "    </tr>\n",
       "    <tr>\n",
       "      <th>3</th>\n",
       "      <td>9.500000</td>\n",
       "      <td>139</td>\n",
       "    </tr>\n",
       "    <tr>\n",
       "      <th>4</th>\n",
       "      <td>10.500000</td>\n",
       "      <td>67</td>\n",
       "    </tr>\n",
       "    <tr>\n",
       "      <th>...</th>\n",
       "      <td>...</td>\n",
       "      <td>...</td>\n",
       "    </tr>\n",
       "    <tr>\n",
       "      <th>60</th>\n",
       "      <td>9.950000</td>\n",
       "      <td>1</td>\n",
       "    </tr>\n",
       "    <tr>\n",
       "      <th>61</th>\n",
       "      <td>9.233333</td>\n",
       "      <td>1</td>\n",
       "    </tr>\n",
       "    <tr>\n",
       "      <th>62</th>\n",
       "      <td>9.250000</td>\n",
       "      <td>1</td>\n",
       "    </tr>\n",
       "    <tr>\n",
       "      <th>63</th>\n",
       "      <td>9.050000</td>\n",
       "      <td>1</td>\n",
       "    </tr>\n",
       "    <tr>\n",
       "      <th>64</th>\n",
       "      <td>10.750000</td>\n",
       "      <td>1</td>\n",
       "    </tr>\n",
       "  </tbody>\n",
       "</table>\n",
       "<p>65 rows × 2 columns</p>\n",
       "</div>"
      ],
      "text/plain": [
       "      alcohol  no_of_al\n",
       "0    9.400000       103\n",
       "1    9.800000        78\n",
       "2   10.000000        67\n",
       "3    9.500000       139\n",
       "4   10.500000        67\n",
       "..        ...       ...\n",
       "60   9.950000         1\n",
       "61   9.233333         1\n",
       "62   9.250000         1\n",
       "63   9.050000         1\n",
       "64  10.750000         1\n",
       "\n",
       "[65 rows x 2 columns]"
      ]
     },
     "execution_count": 276,
     "metadata": {},
     "output_type": "execute_result"
    }
   ],
   "source": [
    "no_of_al=[]\n",
    "lables=wine['alcohol'].unique()\n",
    "for i in lables:\n",
    "    cond=wine['alcohol']==i\n",
    "    count=len(wine[cond])\n",
    "    no_of_al.append(count)\n",
    "cond_df=pd.DataFrame(zip(lables,no_of_al),\n",
    "                    columns=['alcohol','no_of_al'])\n",
    "cond.to_csv('cond_df.csv',index=True)\n",
    "cond_df"
   ]
  },
  {
   "cell_type": "code",
   "execution_count": 278,
   "id": "10617a0c-a189-4ab7-91be-b5eb719d1b3a",
   "metadata": {},
   "outputs": [
    {
     "ename": "AttributeError",
     "evalue": "'function' object has no attribute 'reset_index'",
     "output_type": "error",
     "traceback": [
      "\u001b[1;31m---------------------------------------------------------------------------\u001b[0m",
      "\u001b[1;31mAttributeError\u001b[0m                            Traceback (most recent call last)",
      "Cell \u001b[1;32mIn[278], line 1\u001b[0m\n\u001b[1;32m----> 1\u001b[0m count\u001b[38;5;241m=\u001b[39mwine[\u001b[38;5;124m'\u001b[39m\u001b[38;5;124malcohol\u001b[39m\u001b[38;5;124m'\u001b[39m]\u001b[38;5;241m.\u001b[39mvalue_counts\u001b[38;5;241m.\u001b[39mreset_index()\n\u001b[0;32m      2\u001b[0m count\u001b[38;5;241m.\u001b[39mcolumns\u001b[38;5;241m=\u001b[39m[\u001b[38;5;124m'\u001b[39m\u001b[38;5;124malcohol\u001b[39m\u001b[38;5;124m'\u001b[39m,\u001b[38;5;124m'\u001b[39m\u001b[38;5;124mno_of_al\u001b[39m\u001b[38;5;124m'\u001b[39m]\n\u001b[0;32m      3\u001b[0m count\u001b[38;5;241m.\u001b[39mto_csv(\u001b[38;5;124m'\u001b[39m\u001b[38;5;124mcond_df.csv\u001b[39m\u001b[38;5;124m'\u001b[39m,index\u001b[38;5;241m=\u001b[39m\u001b[38;5;28;01mFalse\u001b[39;00m)\n",
      "\u001b[1;31mAttributeError\u001b[0m: 'function' object has no attribute 'reset_index'"
     ]
    }
   ],
   "source": [
    "count=wine['alcohol'].value_counts.reset_index()\n",
    "count.columns=['alcohol','no_of_al']\n",
    "count.to_csv('cond_df.csv',index=False)\n",
    "count"
   ]
  },
  {
   "cell_type": "code",
   "execution_count": 280,
   "id": "28ebe1ea-6111-412d-9f8a-189fc1a4ee48",
   "metadata": {},
   "outputs": [],
   "source": [
    "count=[]  #change-1\n",
    "for col in cat:\n",
    "    labels=wine[col].unique()  # change-2\n",
    "for label in labels:\n",
    "    cond=wine['alcohol']==label\n",
    "    count.append(len(wine[cond]))\n",
    "   \n",
    "cond_df=pd.DataFrame(zip(labels,no_of_al),\n",
    "                   columns=['alcohol','no_of_al'])\n",
    "cond_df.to_csv('cond_df.csv',index=False)"
   ]
  },
  {
   "cell_type": "code",
   "execution_count": null,
   "id": "18b2367e-0dfc-44d9-af28-b4208e3b92f5",
   "metadata": {},
   "outputs": [],
   "source": []
  }
 ],
 "metadata": {
  "kernelspec": {
   "display_name": "Python [conda env:base] *",
   "language": "python",
   "name": "conda-base-py"
  },
  "language_info": {
   "codemirror_mode": {
    "name": "ipython",
    "version": 3
   },
   "file_extension": ".py",
   "mimetype": "text/x-python",
   "name": "python",
   "nbconvert_exporter": "python",
   "pygments_lexer": "ipython3",
   "version": "3.12.7"
  }
 },
 "nbformat": 4,
 "nbformat_minor": 5
}
